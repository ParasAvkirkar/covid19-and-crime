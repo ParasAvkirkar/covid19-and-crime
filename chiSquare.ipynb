{
 "cells": [
  {
   "cell_type": "code",
   "execution_count": 1,
   "metadata": {},
   "outputs": [],
   "source": [
    "%config IPCompleter.greedy=True"
   ]
  },
  {
   "cell_type": "code",
   "execution_count": 2,
   "metadata": {
    "colab": {
     "base_uri": "https://localhost:8080/",
     "height": 72
    },
    "colab_type": "code",
    "id": "koWvV4HVwF1H",
    "outputId": "6d97c1e1-9d56-4572-c0ea-3741e830b250"
   },
   "outputs": [],
   "source": [
    "import os\n",
    "import datetime\n",
    "import pandas as pd\n",
    "import numpy as np\n",
    "import matplotlib.pyplot as plt\n",
    "import matplotlib.dates as mdates\n",
    "import seaborn as sns\n",
    "import math"
   ]
  },
  {
   "cell_type": "code",
   "execution_count": 3,
   "metadata": {
    "colab": {},
    "colab_type": "code",
    "id": "qn3uBDLIvOjD"
   },
   "outputs": [],
   "source": [
    "root_path = './'"
   ]
  },
  {
   "cell_type": "markdown",
   "metadata": {
    "colab_type": "text",
    "id": "qexdFVFUmJet"
   },
   "source": [
    "## SF Covid-19 Dataset"
   ]
  },
  {
   "cell_type": "code",
   "execution_count": 4,
   "metadata": {
    "colab": {},
    "colab_type": "code",
    "id": "n5J3BdvLvyiJ"
   },
   "outputs": [],
   "source": [
    "cases_df = pd.read_csv(root_path + '/data/COVID-19_Cases_Summarized_by_Date__Transmission_and_Case_Disposition.csv')"
   ]
  },
  {
   "cell_type": "code",
   "execution_count": 5,
   "metadata": {
    "colab": {
     "base_uri": "https://localhost:8080/",
     "height": 104
    },
    "colab_type": "code",
    "id": "BqyBl1Apl2bJ",
    "outputId": "538bd46f-0226-4110-9898-9cac36448152"
   },
   "outputs": [
    {
     "data": {
      "text/plain": [
       "Date                     0\n",
       "Transmission Category    0\n",
       "Case Disposition         0\n",
       "Case Count               0\n",
       "dtype: int64"
      ]
     },
     "execution_count": 5,
     "metadata": {},
     "output_type": "execute_result"
    }
   ],
   "source": [
    "cases_df.isna().sum()"
   ]
  },
  {
   "cell_type": "markdown",
   "metadata": {
    "colab_type": "text",
    "id": "aiv3mC01vkYN"
   },
   "source": [
    "#### We can verify in above query, 0 MISSING values were found "
   ]
  },
  {
   "cell_type": "markdown",
   "metadata": {
    "colab_type": "text",
    "id": "0sva1JaSKPNz"
   },
   "source": [
    "## Pre-processing steps for SF Covid-19 Dataset\n",
    "\n",
    "1.   Converting Date column into date-time dtype\n",
    "\n"
   ]
  },
  {
   "cell_type": "code",
   "execution_count": 6,
   "metadata": {
    "colab": {},
    "colab_type": "code",
    "id": "dVO1i4VDKZBA"
   },
   "outputs": [],
   "source": [
    "cases_df[\"Date\"] = pd.to_datetime(cases_df[\"Date\"], format=\"%Y/%m/%d\")"
   ]
  },
  {
   "cell_type": "code",
   "execution_count": 7,
   "metadata": {
    "colab": {},
    "colab_type": "code",
    "id": "qE6FOqg4LLOh"
   },
   "outputs": [],
   "source": [
    "# Verify by uncommenting and toggling with ascending=True/False\n",
    "# cases_df.sort_values(by=\"Date\", ascending=False)"
   ]
  },
  {
   "cell_type": "markdown",
   "metadata": {
    "colab_type": "text",
    "id": "fNo7caH2mUXd"
   },
   "source": [
    "## Crime Dataset"
   ]
  },
  {
   "cell_type": "code",
   "execution_count": 8,
   "metadata": {
    "colab": {},
    "colab_type": "code",
    "id": "ZKfKf_-GyUKI"
   },
   "outputs": [],
   "source": [
    "crime_df = pd.read_csv(root_path + '/data/Police_Department_Incident_Reports__2018_to_Present.csv')"
   ]
  },
  {
   "cell_type": "code",
   "execution_count": 9,
   "metadata": {},
   "outputs": [
    {
     "data": {
      "text/plain": [
       "Central       53323\n",
       "Northern      46002\n",
       "Mission       45971\n",
       "Southern      42958\n",
       "Tenderloin    33563\n",
       "Bayview       27926\n",
       "Ingleside     24320\n",
       "Taraval       23231\n",
       "Richmond      20263\n",
       "Park          16076\n",
       "Out of SF      9303\n",
       "Name: Police District, dtype: int64"
      ]
     },
     "execution_count": 9,
     "metadata": {},
     "output_type": "execute_result"
    }
   ],
   "source": [
    "crime_df[\"Police District\"].value_counts()"
   ]
  },
  {
   "cell_type": "code",
   "execution_count": 10,
   "metadata": {
    "colab": {
     "base_uri": "https://localhost:8080/",
     "height": 34
    },
    "colab_type": "code",
    "id": "5BFHLIW6lRy4",
    "outputId": "14e462b9-5730-45f9-afca-71d196dafed8"
   },
   "outputs": [
    {
     "data": {
      "text/plain": [
       "(342936, 36)"
      ]
     },
     "execution_count": 10,
     "metadata": {},
     "output_type": "execute_result"
    }
   ],
   "source": [
    "crime_df.shape"
   ]
  },
  {
   "cell_type": "code",
   "execution_count": 11,
   "metadata": {
    "colab": {
     "base_uri": "https://localhost:8080/",
     "height": 660
    },
    "colab_type": "code",
    "id": "qwYA6ogx7yXh",
    "outputId": "07fe5e65-251c-428c-ce65-2f0af7f640dc"
   },
   "outputs": [
    {
     "data": {
      "text/plain": [
       "Incident Datetime                                            0\n",
       "Incident Date                                                0\n",
       "Incident Time                                                0\n",
       "Incident Year                                                0\n",
       "Incident Day of Week                                         0\n",
       "Report Datetime                                              0\n",
       "Row ID                                                       0\n",
       "Incident ID                                                  0\n",
       "Incident Number                                              0\n",
       "CAD Number                                               79225\n",
       "Report Type Code                                             0\n",
       "Report Type Description                                      0\n",
       "Filed Online                                            269212\n",
       "Incident Code                                                0\n",
       "Incident Category                                          162\n",
       "Incident Subcategory                                       162\n",
       "Incident Description                                         0\n",
       "Resolution                                                   0\n",
       "Intersection                                             18181\n",
       "CNN                                                      18181\n",
       "Police District                                              0\n",
       "Analysis Neighborhood                                    18247\n",
       "Supervisor District                                      18181\n",
       "Latitude                                                 18181\n",
       "Longitude                                                18181\n",
       "point                                                    18181\n",
       "SF Find Neighborhoods                                    25144\n",
       "Current Police Districts                                 18667\n",
       "Current Supervisor Districts                             18247\n",
       "Analysis Neighborhoods                                   18313\n",
       "HSOC Zones as of 2018-06-05                             266727\n",
       "OWED Public Spaces                                      325834\n",
       "Central Market/Tenderloin Boundary Polygon - Updated    297518\n",
       "Parks Alliance CPSI (27+TL sites)                       338752\n",
       "ESNCAG - Boundary File                                  339171\n",
       "Areas of Vulnerability, 2016                             18313\n",
       "dtype: int64"
      ]
     },
     "execution_count": 11,
     "metadata": {},
     "output_type": "execute_result"
    }
   ],
   "source": [
    "crime_df.isna().sum()"
   ]
  },
  {
   "cell_type": "markdown",
   "metadata": {
    "colab_type": "text",
    "id": "aVB8VyigMdZq"
   },
   "source": [
    "## Pre-processing steps for Crime Dataset:\n"
   ]
  },
  {
   "cell_type": "markdown",
   "metadata": {
    "colab_type": "text",
    "id": "FL42Yl-FmigC"
   },
   "source": [
    "### Considering only non-null columns and Incident columns"
   ]
  },
  {
   "cell_type": "code",
   "execution_count": 12,
   "metadata": {
    "colab": {},
    "colab_type": "code",
    "id": "fGy7IIcUmnUf"
   },
   "outputs": [],
   "source": [
    "columns_to_consider = [\"Incident Datetime\", \n",
    "                       \"Incident Date\", \n",
    "                       \"Incident Time\", \n",
    "                       \"Incident Year\", \n",
    "                       \"Incident Day of Week\", \n",
    "                       \"Report Datetime\", \n",
    "                       \"Row ID\", \n",
    "                       \"Incident ID\", \n",
    "                       \"Incident Number\", \n",
    "                       \"Report Type Code\", \n",
    "                       \"Report Type Description\", \n",
    "                       \"Incident Code\", \n",
    "                       \"Incident Category\", \n",
    "                       \"Incident Subcategory\", \n",
    "                       \"Incident Description\", \n",
    "                       \"Resolution\", \n",
    "                       \"Police District\"]"
   ]
  },
  {
   "cell_type": "code",
   "execution_count": 13,
   "metadata": {
    "colab": {},
    "colab_type": "code",
    "id": "-5hU7d35n91s"
   },
   "outputs": [],
   "source": [
    "crime_df = crime_df[columns_to_consider]"
   ]
  },
  {
   "cell_type": "code",
   "execution_count": 14,
   "metadata": {
    "colab": {},
    "colab_type": "code",
    "id": "2u30SQ1Tok47"
   },
   "outputs": [],
   "source": [
    "crime_df = crime_df[crime_df[\"Incident Category\"].notna()]"
   ]
  },
  {
   "cell_type": "code",
   "execution_count": 15,
   "metadata": {
    "colab": {},
    "colab_type": "code",
    "id": "a7BVSSOoqKTL"
   },
   "outputs": [],
   "source": [
    "# Verify whhether nulls are removed through the above query\n",
    "# crime_df.isnull().sum()"
   ]
  },
  {
   "cell_type": "code",
   "execution_count": 16,
   "metadata": {
    "colab": {},
    "colab_type": "code",
    "id": "Sc5H5v3k7znS"
   },
   "outputs": [],
   "source": [
    "crime_df[\"Incident Date\"] = pd.to_datetime(crime_df[\"Incident Date\"], format=\"%Y/%m/%d\")"
   ]
  },
  {
   "cell_type": "code",
   "execution_count": 17,
   "metadata": {
    "colab": {},
    "colab_type": "code",
    "id": "Qd-1nnld8SIt"
   },
   "outputs": [],
   "source": [
    "crime_df[\"Incident Datetime\"] = pd.to_datetime(crime_df[\"Incident Datetime\"], format=\"%Y/%m/%d %I:%M:%S %p\")"
   ]
  },
  {
   "cell_type": "markdown",
   "metadata": {},
   "source": [
    "## Chi-Square testing Before Lockdown/After Lockdown"
   ]
  },
  {
   "cell_type": "code",
   "execution_count": 285,
   "metadata": {},
   "outputs": [],
   "source": [
    "from dateutil.relativedelta import relativedelta\n",
    "\n",
    "earliest_start_date = crime_df[\"Incident Date\"].min()\n",
    "\n",
    "lockdown_effective_date = datetime.datetime(2020, 3, 17)\n",
    "first_corona_date = cases_df[\"Date\"].min()\n",
    "# earliest_start_date = first_corona_date\n",
    "latest_date = cases_df[\"Date\"].max()\n",
    "previous_year_start = lockdown_effective_date - relativedelta(years=1)\n",
    "previous_year_end = latest_date - relativedelta(years=1)\n",
    "\n",
    "t = crime_df[[\"Incident ID\", \"Incident Category\"]].drop_duplicates()\n",
    "t = t[\"Incident Category\"].value_counts()\n",
    "most_frequent_crimes = list(t[:2].index)\n",
    "\n",
    "most_frequent_crimes = [\"Larceny Theft\", \"Malicious Mischief\"]"
   ]
  },
  {
   "cell_type": "code",
   "execution_count": 286,
   "metadata": {},
   "outputs": [],
   "source": [
    "before_lockdown_crime = crime_df[(crime_df[\"Incident Date\"] >= previous_year_start) & (crime_df[\"Incident Date\"] <= previous_year_end)]\n",
    "after_lockdown_crime = crime_df[(crime_df[\"Incident Date\"] >= lockdown_effective_date) & (crime_df[\"Incident Date\"] <= latest_date)]\n",
    "\n",
    "# Avoiding double counting same incident-category\n",
    "before_lockdown_crime = before_lockdown_crime[[\"Incident ID\", \"Incident Category\"]].drop_duplicates()\n",
    "after_lockdown_crime = after_lockdown_crime[[\"Incident ID\", \"Incident Category\"]].drop_duplicates()\n",
    "\n",
    "before_days = (previous_year_end - previous_year_start).days + 1\n",
    "after_days = (latest_date - lockdown_effective_date).days + 1\n",
    "\n",
    "# Creating dictionary to hold mean crime types before and after lockdown\n",
    "before_mean_crimes = before_lockdown_crime[\"Incident Category\"].value_counts().divide(before_days).to_dict()\n",
    "after_mean_crimes = after_lockdown_crime[\"Incident Category\"].value_counts().divide(after_days).to_dict()"
   ]
  },
  {
   "cell_type": "code",
   "execution_count": 287,
   "metadata": {},
   "outputs": [],
   "source": [
    "# There are some crimes that never occur, neither before lockdown, nor after lockdown\n",
    "# because of which the expected value becomes 0\n",
    "# to avoid division by 0 error we are considering only those crime-types where crime has occured\n",
    "crimes_to_consider = []\n",
    "for crime in most_frequent_crimes:\n",
    "    if before_mean_crimes.get(crime, 0.0) == 0.0 and after_mean_crimes.get(crime, 0.0) == 0.0:\n",
    "        continue\n",
    "    crimes_to_consider.append(crime)"
   ]
  },
  {
   "cell_type": "code",
   "execution_count": 288,
   "metadata": {},
   "outputs": [
    {
     "data": {
      "text/plain": [
       "['Larceny Theft', 'Malicious Mischief']"
      ]
     },
     "execution_count": 288,
     "metadata": {},
     "output_type": "execute_result"
    }
   ],
   "source": [
    "crimes_to_consider"
   ]
  },
  {
   "cell_type": "code",
   "execution_count": 298,
   "metadata": {},
   "outputs": [],
   "source": [
    "chi_square_matrix = []\n",
    "i = 0\n",
    "j = 0\n",
    "for crime_dict in [before_mean_crimes, after_mean_crimes]:\n",
    "    row = []\n",
    "    for crime in crimes_to_consider:\n",
    "        row.append(crime_dict.get(crime, 0.0))\n",
    "    \n",
    "    chi_square_matrix.append(row)\n",
    "\n",
    "row_totals = [0.0 for i in range(len(chi_square_matrix))]\n",
    "column_totals = [0.0 for i in range(2)]\n",
    "\n",
    "for i in range(2):\n",
    "    row_sum = 0.0\n",
    "    for j in range(len(chi_square_matrix)):\n",
    "        column_totals[j] = column_totals[j] + chi_square_matrix[i][j]\n",
    "        row_sum += chi_square_matrix[i][j]\n",
    "    \n",
    "    row_totals[i] = row_sum\n",
    "\n",
    "total = float(np.sum(np.array(column_totals)))"
   ]
  },
  {
   "cell_type": "code",
   "execution_count": 299,
   "metadata": {},
   "outputs": [
    {
     "name": "stdout",
     "output_type": "stream",
     "text": [
      "110.8489788045607 116.51020408163265\n",
      "29.355102828092377 23.693877551020407\n",
      "56.4571436444189 50.795918367346935\n",
      "14.951019620887223 20.612244897959183\n"
     ]
    }
   ],
   "source": [
    "q_statistic = 0.0\n",
    "for i in range(2):\n",
    "    for j in range(len(chi_square_matrix)):\n",
    "        expected = row_totals[i] * column_totals[j]/total\n",
    "        observed = chi_square_matrix[i][j]\n",
    "        print(str(expected) + \" \" + str(observed))\n",
    "        q_statistic = q_statistic + (((expected - observed)**2) / expected)\n",
    "        \n",
    "degrees_of_freedom = (len(crime_types) - 1) * (2 - 1)"
   ]
  },
  {
   "cell_type": "code",
   "execution_count": 300,
   "metadata": {},
   "outputs": [
    {
     "data": {
      "text/plain": [
       "[[116.51020408163265, 23.693877551020407],\n",
       " [50.795918367346935, 20.612244897959183]]"
      ]
     },
     "execution_count": 300,
     "metadata": {},
     "output_type": "execute_result"
    }
   ],
   "source": [
    "chi_square_matrix"
   ]
  },
  {
   "cell_type": "code",
   "execution_count": 301,
   "metadata": {},
   "outputs": [
    {
     "data": {
      "text/plain": [
       "4.0922217631055355"
      ]
     },
     "execution_count": 301,
     "metadata": {},
     "output_type": "execute_result"
    }
   ],
   "source": [
    "q_statistic"
   ]
  },
  {
   "cell_type": "code",
   "execution_count": 302,
   "metadata": {},
   "outputs": [
    {
     "data": {
      "text/plain": [
       "[140.20408163265307, 71.40816326530611]"
      ]
     },
     "execution_count": 302,
     "metadata": {},
     "output_type": "execute_result"
    }
   ],
   "source": [
    "row_totals"
   ]
  },
  {
   "cell_type": "code",
   "execution_count": 303,
   "metadata": {},
   "outputs": [
    {
     "data": {
      "text/plain": [
       "[167.30612244897958, 44.30612244897959]"
      ]
     },
     "execution_count": 303,
     "metadata": {},
     "output_type": "execute_result"
    }
   ],
   "source": [
    "column_totals"
   ]
  },
  {
   "cell_type": "code",
   "execution_count": 304,
   "metadata": {},
   "outputs": [
    {
     "data": {
      "text/plain": [
       "211.61224489795916"
      ]
     },
     "execution_count": 304,
     "metadata": {},
     "output_type": "execute_result"
    }
   ],
   "source": [
    "total"
   ]
  },
  {
   "cell_type": "markdown",
   "metadata": {},
   "source": [
    "### For fetching p-value from Chi-square distribution we are using scipy library"
   ]
  },
  {
   "cell_type": "code",
   "execution_count": 305,
   "metadata": {},
   "outputs": [],
   "source": [
    "from scipy import stats\n",
    "p_value = 1 - stats.chi2.cdf(q_statistic, degrees_of_freedom)"
   ]
  },
  {
   "cell_type": "code",
   "execution_count": 327,
   "metadata": {},
   "outputs": [
    {
     "name": "stdout",
     "output_type": "stream",
     "text": [
      "1.0 4.0922217631055355\n"
     ]
    }
   ],
   "source": [
    "print(str(p_value) + \" \" + str(q_statistic))"
   ]
  },
  {
   "cell_type": "markdown",
   "metadata": {},
   "source": [
    "### For such a high p-value observed (0.99) which is greater than significance threshold (0.05)\n",
    "### we FAIL-TO-REJECT Null Hypothesis and conclude that crime is independent of before and after lockdown changes"
   ]
  },
  {
   "cell_type": "code",
   "execution_count": 258,
   "metadata": {},
   "outputs": [
    {
     "data": {
      "text/plain": [
       "(3.4012920000759284,\n",
       " 0.06514537433648841,\n",
       " 1,\n",
       " array([[110.8489788 ,  56.45714364],\n",
       "        [ 29.35510283,  14.95101962]]))"
      ]
     },
     "execution_count": 258,
     "metadata": {},
     "output_type": "execute_result"
    }
   ],
   "source": [
    "from scipy.stats import chi2_contingency\n",
    "arr = np.array(chi_square_matrix)\n",
    "chi2_contingency(arr)"
   ]
  },
  {
   "cell_type": "code",
   "execution_count": null,
   "metadata": {},
   "outputs": [],
   "source": []
  },
  {
   "cell_type": "code",
   "execution_count": null,
   "metadata": {},
   "outputs": [],
   "source": []
  },
  {
   "cell_type": "code",
   "execution_count": 320,
   "metadata": {},
   "outputs": [
    {
     "data": {
      "text/plain": [
       "Confirmed    154\n",
       "Death         28\n",
       "Name: Case Disposition, dtype: int64"
      ]
     },
     "execution_count": 320,
     "metadata": {},
     "output_type": "execute_result"
    }
   ],
   "source": [
    "cases_df[\"Case Disposition\"].value_counts()"
   ]
  },
  {
   "cell_type": "code",
   "execution_count": 323,
   "metadata": {},
   "outputs": [
    {
     "data": {
      "text/plain": [
       "Community       65\n",
       "From Contact    65\n",
       "Unknown         52\n",
       "Name: Transmission Category, dtype: int64"
      ]
     },
     "execution_count": 323,
     "metadata": {},
     "output_type": "execute_result"
    }
   ],
   "source": [
    "cases_df[\"Transmission Category\"].value_counts()"
   ]
  },
  {
   "cell_type": "code",
   "execution_count": 324,
   "metadata": {},
   "outputs": [
    {
     "data": {
      "text/html": [
       "<div>\n",
       "<style scoped>\n",
       "    .dataframe tbody tr th:only-of-type {\n",
       "        vertical-align: middle;\n",
       "    }\n",
       "\n",
       "    .dataframe tbody tr th {\n",
       "        vertical-align: top;\n",
       "    }\n",
       "\n",
       "    .dataframe thead th {\n",
       "        text-align: right;\n",
       "    }\n",
       "</style>\n",
       "<table border=\"1\" class=\"dataframe\">\n",
       "  <thead>\n",
       "    <tr style=\"text-align: right;\">\n",
       "      <th></th>\n",
       "      <th>Case Count</th>\n",
       "    </tr>\n",
       "    <tr>\n",
       "      <th>Transmission Category</th>\n",
       "      <th></th>\n",
       "    </tr>\n",
       "  </thead>\n",
       "  <tbody>\n",
       "    <tr>\n",
       "      <th>Community</th>\n",
       "      <td>859</td>\n",
       "    </tr>\n",
       "    <tr>\n",
       "      <th>From Contact</th>\n",
       "      <td>466</td>\n",
       "    </tr>\n",
       "    <tr>\n",
       "      <th>Unknown</th>\n",
       "      <td>460</td>\n",
       "    </tr>\n",
       "  </tbody>\n",
       "</table>\n",
       "</div>"
      ],
      "text/plain": [
       "                       Case Count\n",
       "Transmission Category            \n",
       "Community                     859\n",
       "From Contact                  466\n",
       "Unknown                       460"
      ]
     },
     "execution_count": 324,
     "metadata": {},
     "output_type": "execute_result"
    }
   ],
   "source": [
    "cases_df.groupby(\"Transmission Category\").sum()"
   ]
  },
  {
   "cell_type": "code",
   "execution_count": 325,
   "metadata": {},
   "outputs": [
    {
     "data": {
      "text/plain": [
       "datetime.datetime(2020, 3, 17, 0, 0)"
      ]
     },
     "execution_count": 325,
     "metadata": {},
     "output_type": "execute_result"
    }
   ],
   "source": [
    "lockdown_effective_date"
   ]
  },
  {
   "cell_type": "code",
   "execution_count": 326,
   "metadata": {},
   "outputs": [
    {
     "data": {
      "text/plain": [
       "Timestamp('2020-05-04 00:00:00')"
      ]
     },
     "execution_count": 326,
     "metadata": {},
     "output_type": "execute_result"
    }
   ],
   "source": [
    "latest_date"
   ]
  },
  {
   "cell_type": "code",
   "execution_count": null,
   "metadata": {},
   "outputs": [],
   "source": []
  }
 ],
 "metadata": {
  "colab": {
   "name": "Copy of scratchPad.ipynb",
   "provenance": [],
   "toc_visible": true
  },
  "kernelspec": {
   "display_name": "Python 3",
   "language": "python",
   "name": "python3"
  },
  "language_info": {
   "codemirror_mode": {
    "name": "ipython",
    "version": 3
   },
   "file_extension": ".py",
   "mimetype": "text/x-python",
   "name": "python",
   "nbconvert_exporter": "python",
   "pygments_lexer": "ipython3",
   "version": "3.7.6"
  }
 },
 "nbformat": 4,
 "nbformat_minor": 4
}
