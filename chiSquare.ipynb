{
 "cells": [
  {
   "cell_type": "code",
   "execution_count": 1,
   "metadata": {},
   "outputs": [],
   "source": [
    "%config IPCompleter.greedy=True"
   ]
  },
  {
   "cell_type": "code",
   "execution_count": 2,
   "metadata": {
    "colab": {
     "base_uri": "https://localhost:8080/",
     "height": 72
    },
    "colab_type": "code",
    "id": "koWvV4HVwF1H",
    "outputId": "6d97c1e1-9d56-4572-c0ea-3741e830b250"
   },
   "outputs": [],
   "source": [
    "import os\n",
    "import datetime\n",
    "import pandas as pd\n",
    "import numpy as np\n",
    "import matplotlib.pyplot as plt\n",
    "import matplotlib.dates as mdates\n",
    "import seaborn as sns\n",
    "import math"
   ]
  },
  {
   "cell_type": "code",
   "execution_count": 3,
   "metadata": {
    "colab": {},
    "colab_type": "code",
    "id": "qn3uBDLIvOjD"
   },
   "outputs": [],
   "source": [
    "root_path = './'"
   ]
  },
  {
   "cell_type": "markdown",
   "metadata": {
    "colab_type": "text",
    "id": "qexdFVFUmJet"
   },
   "source": [
    "## SF Covid-19 Dataset"
   ]
  },
  {
   "cell_type": "code",
   "execution_count": 4,
   "metadata": {
    "colab": {},
    "colab_type": "code",
    "id": "n5J3BdvLvyiJ"
   },
   "outputs": [],
   "source": [
    "cases_df = pd.read_csv(root_path + '/data/COVID-19_Cases_Summarized_by_Date__Transmission_and_Case_Disposition.csv')"
   ]
  },
  {
   "cell_type": "code",
   "execution_count": 5,
   "metadata": {
    "colab": {
     "base_uri": "https://localhost:8080/",
     "height": 104
    },
    "colab_type": "code",
    "id": "BqyBl1Apl2bJ",
    "outputId": "538bd46f-0226-4110-9898-9cac36448152"
   },
   "outputs": [
    {
     "data": {
      "text/plain": [
       "Date                     0\n",
       "Transmission Category    0\n",
       "Case Disposition         0\n",
       "Case Count               0\n",
       "dtype: int64"
      ]
     },
     "execution_count": 5,
     "metadata": {},
     "output_type": "execute_result"
    }
   ],
   "source": [
    "cases_df.isna().sum()"
   ]
  },
  {
   "cell_type": "markdown",
   "metadata": {
    "colab_type": "text",
    "id": "aiv3mC01vkYN"
   },
   "source": [
    "#### We can verify in above query, 0 MISSING values were found "
   ]
  },
  {
   "cell_type": "markdown",
   "metadata": {
    "colab_type": "text",
    "id": "0sva1JaSKPNz"
   },
   "source": [
    "## Pre-processing steps for SF Covid-19 Dataset\n",
    "\n",
    "1.   Converting Date column into date-time dtype\n",
    "\n"
   ]
  },
  {
   "cell_type": "code",
   "execution_count": 6,
   "metadata": {
    "colab": {},
    "colab_type": "code",
    "id": "dVO1i4VDKZBA"
   },
   "outputs": [],
   "source": [
    "cases_df[\"Date\"] = pd.to_datetime(cases_df[\"Date\"], format=\"%Y/%m/%d\")"
   ]
  },
  {
   "cell_type": "code",
   "execution_count": 7,
   "metadata": {
    "colab": {},
    "colab_type": "code",
    "id": "qE6FOqg4LLOh"
   },
   "outputs": [],
   "source": [
    "# Verify by uncommenting and toggling with ascending=True/False\n",
    "# cases_df.sort_values(by=\"Date\", ascending=False)"
   ]
  },
  {
   "cell_type": "markdown",
   "metadata": {
    "colab_type": "text",
    "id": "fNo7caH2mUXd"
   },
   "source": [
    "## Crime Dataset"
   ]
  },
  {
   "cell_type": "code",
   "execution_count": 8,
   "metadata": {
    "colab": {},
    "colab_type": "code",
    "id": "ZKfKf_-GyUKI"
   },
   "outputs": [],
   "source": [
    "crime_df = pd.read_csv(root_path + '/data/Police_Department_Incident_Reports__2018_to_Present.csv')"
   ]
  },
  {
   "cell_type": "code",
   "execution_count": 9,
   "metadata": {},
   "outputs": [
    {
     "data": {
      "text/plain": [
       "Central       53323\n",
       "Northern      46002\n",
       "Mission       45971\n",
       "Southern      42958\n",
       "Tenderloin    33563\n",
       "Bayview       27926\n",
       "Ingleside     24320\n",
       "Taraval       23231\n",
       "Richmond      20263\n",
       "Park          16076\n",
       "Out of SF      9303\n",
       "Name: Police District, dtype: int64"
      ]
     },
     "execution_count": 9,
     "metadata": {},
     "output_type": "execute_result"
    }
   ],
   "source": [
    "crime_df[\"Police District\"].value_counts()"
   ]
  },
  {
   "cell_type": "raw",
   "metadata": {},
   "source": [
    "crime_df[\""
   ]
  },
  {
   "cell_type": "code",
   "execution_count": 10,
   "metadata": {
    "colab": {
     "base_uri": "https://localhost:8080/",
     "height": 34
    },
    "colab_type": "code",
    "id": "5BFHLIW6lRy4",
    "outputId": "14e462b9-5730-45f9-afca-71d196dafed8"
   },
   "outputs": [
    {
     "data": {
      "text/plain": [
       "(342936, 36)"
      ]
     },
     "execution_count": 10,
     "metadata": {},
     "output_type": "execute_result"
    }
   ],
   "source": [
    "crime_df.shape"
   ]
  },
  {
   "cell_type": "code",
   "execution_count": 11,
   "metadata": {
    "colab": {
     "base_uri": "https://localhost:8080/",
     "height": 660
    },
    "colab_type": "code",
    "id": "qwYA6ogx7yXh",
    "outputId": "07fe5e65-251c-428c-ce65-2f0af7f640dc"
   },
   "outputs": [
    {
     "data": {
      "text/plain": [
       "Incident Datetime                                            0\n",
       "Incident Date                                                0\n",
       "Incident Time                                                0\n",
       "Incident Year                                                0\n",
       "Incident Day of Week                                         0\n",
       "Report Datetime                                              0\n",
       "Row ID                                                       0\n",
       "Incident ID                                                  0\n",
       "Incident Number                                              0\n",
       "CAD Number                                               79225\n",
       "Report Type Code                                             0\n",
       "Report Type Description                                      0\n",
       "Filed Online                                            269212\n",
       "Incident Code                                                0\n",
       "Incident Category                                          162\n",
       "Incident Subcategory                                       162\n",
       "Incident Description                                         0\n",
       "Resolution                                                   0\n",
       "Intersection                                             18181\n",
       "CNN                                                      18181\n",
       "Police District                                              0\n",
       "Analysis Neighborhood                                    18247\n",
       "Supervisor District                                      18181\n",
       "Latitude                                                 18181\n",
       "Longitude                                                18181\n",
       "point                                                    18181\n",
       "SF Find Neighborhoods                                    25144\n",
       "Current Police Districts                                 18667\n",
       "Current Supervisor Districts                             18247\n",
       "Analysis Neighborhoods                                   18313\n",
       "HSOC Zones as of 2018-06-05                             266727\n",
       "OWED Public Spaces                                      325834\n",
       "Central Market/Tenderloin Boundary Polygon - Updated    297518\n",
       "Parks Alliance CPSI (27+TL sites)                       338752\n",
       "ESNCAG - Boundary File                                  339171\n",
       "Areas of Vulnerability, 2016                             18313\n",
       "dtype: int64"
      ]
     },
     "execution_count": 11,
     "metadata": {},
     "output_type": "execute_result"
    }
   ],
   "source": [
    "crime_df.isna().sum()"
   ]
  },
  {
   "cell_type": "markdown",
   "metadata": {
    "colab_type": "text",
    "id": "aVB8VyigMdZq"
   },
   "source": [
    "## Pre-processing steps for Crime Dataset:\n"
   ]
  },
  {
   "cell_type": "markdown",
   "metadata": {
    "colab_type": "text",
    "id": "FL42Yl-FmigC"
   },
   "source": [
    "### Considering only non-null columns and Incident columns"
   ]
  },
  {
   "cell_type": "code",
   "execution_count": 12,
   "metadata": {
    "colab": {},
    "colab_type": "code",
    "id": "fGy7IIcUmnUf"
   },
   "outputs": [],
   "source": [
    "columns_to_consider = [\"Incident Datetime\", \n",
    "                       \"Incident Date\", \n",
    "                       \"Incident Time\", \n",
    "                       \"Incident Year\", \n",
    "                       \"Incident Day of Week\", \n",
    "                       \"Report Datetime\", \n",
    "                       \"Row ID\", \n",
    "                       \"Incident ID\", \n",
    "                       \"Incident Number\", \n",
    "                       \"Report Type Code\", \n",
    "                       \"Report Type Description\", \n",
    "                       \"Incident Code\", \n",
    "                       \"Incident Category\", \n",
    "                       \"Incident Subcategory\", \n",
    "                       \"Incident Description\", \n",
    "                       \"Resolution\", \n",
    "                       \"Police District\"]"
   ]
  },
  {
   "cell_type": "code",
   "execution_count": 13,
   "metadata": {
    "colab": {},
    "colab_type": "code",
    "id": "-5hU7d35n91s"
   },
   "outputs": [],
   "source": [
    "crime_df = crime_df[columns_to_consider]"
   ]
  },
  {
   "cell_type": "code",
   "execution_count": 14,
   "metadata": {
    "colab": {},
    "colab_type": "code",
    "id": "2u30SQ1Tok47"
   },
   "outputs": [],
   "source": [
    "crime_df = crime_df[crime_df[\"Incident Category\"].notna()]"
   ]
  },
  {
   "cell_type": "code",
   "execution_count": 15,
   "metadata": {
    "colab": {},
    "colab_type": "code",
    "id": "a7BVSSOoqKTL"
   },
   "outputs": [],
   "source": [
    "# Verify whhether nulls are removed through the above query\n",
    "# crime_df.isnull().sum()"
   ]
  },
  {
   "cell_type": "code",
   "execution_count": 16,
   "metadata": {
    "colab": {},
    "colab_type": "code",
    "id": "Sc5H5v3k7znS"
   },
   "outputs": [],
   "source": [
    "crime_df[\"Incident Date\"] = pd.to_datetime(crime_df[\"Incident Date\"], format=\"%Y/%m/%d\")"
   ]
  },
  {
   "cell_type": "code",
   "execution_count": 17,
   "metadata": {
    "colab": {},
    "colab_type": "code",
    "id": "Qd-1nnld8SIt"
   },
   "outputs": [],
   "source": [
    "crime_df[\"Incident Datetime\"] = pd.to_datetime(crime_df[\"Incident Datetime\"], format=\"%Y/%m/%d %I:%M:%S %p\")"
   ]
  },
  {
   "cell_type": "code",
   "execution_count": 18,
   "metadata": {
    "colab": {
     "base_uri": "https://localhost:8080/",
     "height": 330
    },
    "colab_type": "code",
    "id": "bFs2YIIoNMuQ",
    "outputId": "5954ec7c-36cf-4060-c883-e35226b0aa4b"
   },
   "outputs": [
    {
     "data": {
      "text/plain": [
       "Incident Datetime          datetime64[ns]\n",
       "Incident Date              datetime64[ns]\n",
       "Incident Time                      object\n",
       "Incident Year                       int64\n",
       "Incident Day of Week               object\n",
       "Report Datetime                    object\n",
       "Row ID                              int64\n",
       "Incident ID                         int64\n",
       "Incident Number                     int64\n",
       "Report Type Code                   object\n",
       "Report Type Description            object\n",
       "Incident Code                       int64\n",
       "Incident Category                  object\n",
       "Incident Subcategory               object\n",
       "Incident Description               object\n",
       "Resolution                         object\n",
       "Police District                    object\n",
       "dtype: object"
      ]
     },
     "execution_count": 18,
     "metadata": {},
     "output_type": "execute_result"
    }
   ],
   "source": [
    "crime_df.dtypes"
   ]
  },
  {
   "cell_type": "markdown",
   "metadata": {},
   "source": [
    "## Chi-Square testing Before Lockdown/After Lockdown"
   ]
  },
  {
   "cell_type": "code",
   "execution_count": 192,
   "metadata": {},
   "outputs": [],
   "source": [
    "from dateutil.relativedelta import relativedelta\n",
    "\n",
    "earliest_start_date = crime_df[\"Incident Date\"].min()\n",
    "\n",
    "lockdown_effective_date = datetime.datetime(2020, 3, 17)\n",
    "first_corona_date = cases_df[\"Date\"].min()\n",
    "# earliest_start_date = first_corona_date\n",
    "latest_date = cases_df[\"Date\"].max()\n",
    "previous_year_start = lockdown_effective_date - relativedelta(years=1)\n",
    "previous_year_end = latest_date - relativedelta(years=1)"
   ]
  },
  {
   "cell_type": "code",
   "execution_count": 214,
   "metadata": {},
   "outputs": [],
   "source": [
    "before_lockdown_crime = crime_df[(crime_df[\"Incident Date\"] >= previous_year_start) & (crime_df[\"Incident Date\"] <= previous_year_end)]\n",
    "after_lockdown_crime = crime_df[(crime_df[\"Incident Date\"] >= lockdown_effective_date) & (crime_df[\"Incident Date\"] <= latest_date)]\n",
    "\n",
    "# Avoiding double counting same incident-category\n",
    "before_lockdown_crime = before_lockdown_crime[[\"Incident ID\", \"Incident Category\"]].drop_duplicates()\n",
    "after_lockdown_crime = after_lockdown_crime[[\"Incident ID\", \"Incident Category\"]].drop_duplicates()\n",
    "\n",
    "before_days = (previous_year_end - previous_year_start).days + 1\n",
    "after_days = (latest_date - lockdown_effective_date).days + 1\n",
    "\n",
    "# Creating dictionary to hold mean crime types before and after lockdown\n",
    "before_mean_crimes = before_lockdown_crime[\"Incident Category\"].value_counts().divide(before_days).to_dict()\n",
    "after_mean_crimes = after_lockdown_crime[\"Incident Category\"].value_counts().divide(after_days).to_dict()"
   ]
  },
  {
   "cell_type": "code",
   "execution_count": 215,
   "metadata": {},
   "outputs": [],
   "source": [
    "# There are some crimes that never occur, neither before lockdown, nor after lockdown\n",
    "# because of which the expected value becomes 0\n",
    "# to avoid division by 0 error we are considering only those crime-types where crime has occured\n",
    "crimes_to_consider = []\n",
    "for crime in crime_types:\n",
    "    if before_mean_crimes.get(crime, 0.0) == 0.0 and after_mean_crimes.get(crime, 0.0) == 0.0:\n",
    "        continue\n",
    "    crimes_to_consider.append(crime)"
   ]
  },
  {
   "cell_type": "code",
   "execution_count": 216,
   "metadata": {},
   "outputs": [],
   "source": [
    "chi_square_matrix = []\n",
    "i = 0\n",
    "j = 0\n",
    "for crime in crimes_to_consider:\n",
    "    row = []\n",
    "    for crime_dict in [before_mean_crimes, after_mean_crimes]:\n",
    "        row.append(crime_dict.get(crime, 0.0))\n",
    "    \n",
    "    chi_square_matrix.append(row)\n",
    "\n",
    "row_totals = [0.0 for i in range(len(chi_square_matrix))]\n",
    "column_totals = [0.0 for i in range(2)]\n",
    "\n",
    "for i in range(len(chi_square_matrix)):\n",
    "    row_sum = 0.0\n",
    "    for j in range(2):\n",
    "        column_totals[j] = column_totals[j] + chi_square_matrix[i][j]\n",
    "        row_sum += chi_square_matrix[i][j]\n",
    "    \n",
    "    row_totals[i] = row_sum\n",
    "\n",
    "total = float(np.sum(np.array(column_totals)))"
   ]
  },
  {
   "cell_type": "code",
   "execution_count": 217,
   "metadata": {},
   "outputs": [],
   "source": [
    "q_statistic = 0.0\n",
    "for i in range(len(chi_square_matrix)):\n",
    "    for j in range(2):\n",
    "        expected = row_totals[i] * column_totals[j]/total\n",
    "        if expected == 0.0:\n",
    "            continue\n",
    "        observed = chi_square_matrix[i][j]\n",
    "        q_statistic = q_statistic + (((expected - observed)**2) / expected)\n",
    "        \n",
    "degrees_of_freedom = (len(crime_types) - 1) * (2 - 1)"
   ]
  },
  {
   "cell_type": "markdown",
   "metadata": {},
   "source": [
    "### For fetching p-value from Chi-square distribution we are using scipy library"
   ]
  },
  {
   "cell_type": "code",
   "execution_count": 218,
   "metadata": {},
   "outputs": [],
   "source": [
    "from scipy import stats\n",
    "p_value = 1 - stats.chi2.cdf(q_statistic, degrees_of_freedom)"
   ]
  },
  {
   "cell_type": "code",
   "execution_count": 219,
   "metadata": {},
   "outputs": [
    {
     "data": {
      "text/plain": [
       "0.9976766497209638"
      ]
     },
     "execution_count": 219,
     "metadata": {},
     "output_type": "execute_result"
    }
   ],
   "source": [
    "p_value"
   ]
  },
  {
   "cell_type": "code",
   "execution_count": 210,
   "metadata": {},
   "outputs": [
    {
     "data": {
      "text/plain": [
       "26.311525071340164"
      ]
     },
     "execution_count": 210,
     "metadata": {},
     "output_type": "execute_result"
    }
   ],
   "source": [
    "q_statistic"
   ]
  },
  {
   "cell_type": "markdown",
   "metadata": {},
   "source": [
    "### For such a high p-value observed (0.99) which is greater than significance threshold (0.05)\n",
    "### we FAIL-TO-REJECT Null Hypothesis and conclude that crime is independent of before and after lockdown changes"
   ]
  },
  {
   "cell_type": "code",
   "execution_count": 211,
   "metadata": {},
   "outputs": [
    {
     "data": {
      "text/plain": [
       "(26.311525071340164,\n",
       " 0.9936668488526602,\n",
       " 47,\n",
       " array([[8.48792268e+00, 5.04268956e+00],\n",
       "        [2.20199502e+00, 1.30820906e+00],\n",
       "        [2.47852463e+01, 1.47249578e+01],\n",
       "        [1.20853680e+01, 7.17993808e+00],\n",
       "        [4.25036249e+00, 2.52514771e+00],\n",
       "        [7.47654125e+00, 4.44182610e+00],\n",
       "        [1.04953228e+02, 6.23528945e+01],\n",
       "        [2.88947835e+01, 1.71664409e+01],\n",
       "        [1.21365772e+01, 7.21036155e+00],\n",
       "        [2.29161110e+01, 1.36145012e+01],\n",
       "        [9.78095464e+00, 5.81088209e+00],\n",
       "        [2.29801225e+01, 1.36525306e+01],\n",
       "        [4.48080383e+00, 2.66205331e+00],\n",
       "        [1.35704345e+00, 8.06221861e-01],\n",
       "        [2.77937860e+01, 1.65123364e+01],\n",
       "        [1.86273416e+01, 1.10665359e+01],\n",
       "        [5.73542890e+00, 3.40742824e+00],\n",
       "        [3.41821321e+00, 2.03076639e+00],\n",
       "        [3.37980632e+00, 2.00794879e+00],\n",
       "        [1.36600505e+01, 8.11545967e+00],\n",
       "        [9.07682833e+00, 5.39255943e+00],\n",
       "        [8.61594565e+00, 5.11874823e+00],\n",
       "        [7.09247235e+00, 4.21365010e+00],\n",
       "        [2.54765703e+00, 1.51356746e+00],\n",
       "        [9.72974546e-01, 5.78045862e-01],\n",
       "        [2.94452823e-01, 1.74934932e-01],\n",
       "        [1.02418373e+00, 6.08469329e-01],\n",
       "        [8.83358469e-01, 5.24804796e-01],\n",
       "        [7.68137799e-02, 4.56351997e-02],\n",
       "        [7.42533206e-01, 4.41140263e-01],\n",
       "        [5.50498756e-01, 3.27052264e-01],\n",
       "        [1.25462507e+00, 7.45374928e-01],\n",
       "        [1.20341589e+00, 7.14951461e-01],\n",
       "        [5.12091866e-02, 3.04234664e-02],\n",
       "        [1.15220670e+00, 6.84527995e-01],\n",
       "        [2.43243636e-01, 1.44511466e-01],\n",
       "        [3.07255120e-01, 1.82540799e-01],\n",
       "        [2.56045933e-02, 1.52117332e-02],\n",
       "        [3.71266603e-01, 2.20570132e-01],\n",
       "        [3.45662010e-01, 2.05358398e-01],\n",
       "        [3.84068900e-02, 2.28175998e-02],\n",
       "        [6.01707943e-01, 3.57475731e-01],\n",
       "        [1.02418373e-01, 6.08469329e-02],\n",
       "        [1.28022967e-02, 7.60586661e-03],\n",
       "        [3.84068900e-02, 2.28175998e-02],\n",
       "        [2.56045933e-02, 1.52117332e-02],\n",
       "        [2.56045933e-02, 1.52117332e-02],\n",
       "        [6.40114833e-02, 3.80293331e-02]]))"
      ]
     },
     "execution_count": 211,
     "metadata": {},
     "output_type": "execute_result"
    }
   ],
   "source": [
    "from scipy.stats import chi2_contingency\n",
    "arr = np.array(chi_square_matrix)\n",
    "chi2_contingency(arr)"
   ]
  },
  {
   "cell_type": "code",
   "execution_count": null,
   "metadata": {},
   "outputs": [],
   "source": []
  },
  {
   "cell_type": "code",
   "execution_count": null,
   "metadata": {},
   "outputs": [],
   "source": []
  },
  {
   "cell_type": "code",
   "execution_count": null,
   "metadata": {},
   "outputs": [],
   "source": []
  }
 ],
 "metadata": {
  "colab": {
   "name": "Copy of scratchPad.ipynb",
   "provenance": [],
   "toc_visible": true
  },
  "kernelspec": {
   "display_name": "Python 3",
   "language": "python",
   "name": "python3"
  },
  "language_info": {
   "codemirror_mode": {
    "name": "ipython",
    "version": 3
   },
   "file_extension": ".py",
   "mimetype": "text/x-python",
   "name": "python",
   "nbconvert_exporter": "python",
   "pygments_lexer": "ipython3",
   "version": "3.7.6"
  }
 },
 "nbformat": 4,
 "nbformat_minor": 4
}
