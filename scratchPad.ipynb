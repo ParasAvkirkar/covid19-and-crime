{
 "cells": [
  {
   "cell_type": "code",
   "execution_count": 1,
   "metadata": {},
   "outputs": [],
   "source": [
    "%config IPCompleter.greedy=True"
   ]
  },
  {
   "cell_type": "code",
   "execution_count": 63,
   "metadata": {
    "colab": {
     "base_uri": "https://localhost:8080/",
     "height": 72
    },
    "colab_type": "code",
    "id": "koWvV4HVwF1H",
    "outputId": "6d97c1e1-9d56-4572-c0ea-3741e830b250"
   },
   "outputs": [],
   "source": [
    "import os\n",
    "import datetime\n",
    "import pandas as pd\n",
    "import numpy as np\n",
    "import matplotlib.pyplot as plt\n",
    "import matplotlib.dates as mdates\n",
    "import seaborn as sns\n",
    "import math"
   ]
  },
  {
   "cell_type": "code",
   "execution_count": 3,
   "metadata": {
    "colab": {},
    "colab_type": "code",
    "id": "qn3uBDLIvOjD"
   },
   "outputs": [],
   "source": [
    "root_path = './'"
   ]
  },
  {
   "cell_type": "markdown",
   "metadata": {
    "colab_type": "text",
    "id": "qexdFVFUmJet"
   },
   "source": [
    "## SF Covid-19 Dataset"
   ]
  },
  {
   "cell_type": "code",
   "execution_count": 4,
   "metadata": {
    "colab": {},
    "colab_type": "code",
    "id": "n5J3BdvLvyiJ"
   },
   "outputs": [],
   "source": [
    "cases_df = pd.read_csv(root_path + '/data/COVID-19_Cases_Summarized_by_Date__Transmission_and_Case_Disposition.csv')"
   ]
  },
  {
   "cell_type": "code",
   "execution_count": 5,
   "metadata": {
    "colab": {
     "base_uri": "https://localhost:8080/",
     "height": 104
    },
    "colab_type": "code",
    "id": "BqyBl1Apl2bJ",
    "outputId": "538bd46f-0226-4110-9898-9cac36448152"
   },
   "outputs": [
    {
     "data": {
      "text/plain": [
       "Date                     0\n",
       "Transmission Category    0\n",
       "Case Disposition         0\n",
       "Case Count               0\n",
       "dtype: int64"
      ]
     },
     "execution_count": 5,
     "metadata": {},
     "output_type": "execute_result"
    }
   ],
   "source": [
    "cases_df.isna().sum()"
   ]
  },
  {
   "cell_type": "markdown",
   "metadata": {
    "colab_type": "text",
    "id": "aiv3mC01vkYN"
   },
   "source": [
    "#### We can verify in above query, 0 MISSING values were found "
   ]
  },
  {
   "cell_type": "markdown",
   "metadata": {
    "colab_type": "text",
    "id": "0sva1JaSKPNz"
   },
   "source": [
    "## Pre-processing steps for SF Covid-19 Dataset\n",
    "\n",
    "1.   Converting Date column into date-time dtype\n",
    "\n"
   ]
  },
  {
   "cell_type": "code",
   "execution_count": 6,
   "metadata": {
    "colab": {},
    "colab_type": "code",
    "id": "dVO1i4VDKZBA"
   },
   "outputs": [],
   "source": [
    "cases_df[\"Date\"] = pd.to_datetime(cases_df[\"Date\"], format=\"%Y/%m/%d\")"
   ]
  },
  {
   "cell_type": "code",
   "execution_count": 7,
   "metadata": {
    "colab": {},
    "colab_type": "code",
    "id": "qE6FOqg4LLOh"
   },
   "outputs": [],
   "source": [
    "# Verify by uncommenting and toggling with ascending=True/False\n",
    "# cases_df.sort_values(by=\"Date\", ascending=False)"
   ]
  },
  {
   "cell_type": "markdown",
   "metadata": {
    "colab_type": "text",
    "id": "fNo7caH2mUXd"
   },
   "source": [
    "## Crime Dataset"
   ]
  },
  {
   "cell_type": "code",
   "execution_count": 83,
   "metadata": {
    "colab": {},
    "colab_type": "code",
    "id": "ZKfKf_-GyUKI"
   },
   "outputs": [],
   "source": [
    "crime_df = pd.read_csv(root_path + '/data/Police_Department_Incident_Reports__2018_to_Present.csv')"
   ]
  },
  {
   "cell_type": "code",
   "execution_count": 84,
   "metadata": {},
   "outputs": [
    {
     "data": {
      "text/plain": [
       "Central       53323\n",
       "Northern      46002\n",
       "Mission       45971\n",
       "Southern      42958\n",
       "Tenderloin    33563\n",
       "Bayview       27926\n",
       "Ingleside     24320\n",
       "Taraval       23231\n",
       "Richmond      20263\n",
       "Park          16076\n",
       "Out of SF      9303\n",
       "Name: Police District, dtype: int64"
      ]
     },
     "execution_count": 84,
     "metadata": {},
     "output_type": "execute_result"
    }
   ],
   "source": [
    "crime_df[\"Police District\"].value_counts()"
   ]
  },
  {
   "cell_type": "raw",
   "metadata": {},
   "source": [
    "crime_df[\""
   ]
  },
  {
   "cell_type": "code",
   "execution_count": 9,
   "metadata": {
    "colab": {
     "base_uri": "https://localhost:8080/",
     "height": 34
    },
    "colab_type": "code",
    "id": "5BFHLIW6lRy4",
    "outputId": "14e462b9-5730-45f9-afca-71d196dafed8"
   },
   "outputs": [
    {
     "data": {
      "text/plain": [
       "(342936, 36)"
      ]
     },
     "execution_count": 9,
     "metadata": {},
     "output_type": "execute_result"
    }
   ],
   "source": [
    "crime_df.shape"
   ]
  },
  {
   "cell_type": "code",
   "execution_count": 10,
   "metadata": {
    "colab": {
     "base_uri": "https://localhost:8080/",
     "height": 660
    },
    "colab_type": "code",
    "id": "qwYA6ogx7yXh",
    "outputId": "07fe5e65-251c-428c-ce65-2f0af7f640dc"
   },
   "outputs": [
    {
     "data": {
      "text/plain": [
       "Incident Datetime                                            0\n",
       "Incident Date                                                0\n",
       "Incident Time                                                0\n",
       "Incident Year                                                0\n",
       "Incident Day of Week                                         0\n",
       "Report Datetime                                              0\n",
       "Row ID                                                       0\n",
       "Incident ID                                                  0\n",
       "Incident Number                                              0\n",
       "CAD Number                                               79225\n",
       "Report Type Code                                             0\n",
       "Report Type Description                                      0\n",
       "Filed Online                                            269212\n",
       "Incident Code                                                0\n",
       "Incident Category                                          162\n",
       "Incident Subcategory                                       162\n",
       "Incident Description                                         0\n",
       "Resolution                                                   0\n",
       "Intersection                                             18181\n",
       "CNN                                                      18181\n",
       "Police District                                              0\n",
       "Analysis Neighborhood                                    18247\n",
       "Supervisor District                                      18181\n",
       "Latitude                                                 18181\n",
       "Longitude                                                18181\n",
       "point                                                    18181\n",
       "SF Find Neighborhoods                                    25144\n",
       "Current Police Districts                                 18667\n",
       "Current Supervisor Districts                             18247\n",
       "Analysis Neighborhoods                                   18313\n",
       "HSOC Zones as of 2018-06-05                             266727\n",
       "OWED Public Spaces                                      325834\n",
       "Central Market/Tenderloin Boundary Polygon - Updated    297518\n",
       "Parks Alliance CPSI (27+TL sites)                       338752\n",
       "ESNCAG - Boundary File                                  339171\n",
       "Areas of Vulnerability, 2016                             18313\n",
       "dtype: int64"
      ]
     },
     "execution_count": 10,
     "metadata": {},
     "output_type": "execute_result"
    }
   ],
   "source": [
    "crime_df.isna().sum()"
   ]
  },
  {
   "cell_type": "markdown",
   "metadata": {
    "colab_type": "text",
    "id": "aVB8VyigMdZq"
   },
   "source": [
    "## Pre-processing steps for Crime Dataset:\n"
   ]
  },
  {
   "cell_type": "markdown",
   "metadata": {
    "colab_type": "text",
    "id": "FL42Yl-FmigC"
   },
   "source": [
    "### Considering only non-null columns and Incident columns"
   ]
  },
  {
   "cell_type": "code",
   "execution_count": 11,
   "metadata": {
    "colab": {},
    "colab_type": "code",
    "id": "fGy7IIcUmnUf"
   },
   "outputs": [],
   "source": [
    "columns_to_consider = [\"Incident Datetime\", \n",
    "                       \"Incident Date\", \n",
    "                       \"Incident Time\", \n",
    "                       \"Incident Year\", \n",
    "                       \"Incident Day of Week\", \n",
    "                       \"Report Datetime\", \n",
    "                       \"Row ID\", \n",
    "                       \"Incident ID\", \n",
    "                       \"Incident Number\", \n",
    "                       \"Report Type Code\", \n",
    "                       \"Report Type Description\", \n",
    "                       \"Incident Code\", \n",
    "                       \"Incident Category\", \n",
    "                       \"Incident Subcategory\", \n",
    "                       \"Incident Description\", \n",
    "                       \"Resolution\", \n",
    "                       \"Police District\"]"
   ]
  },
  {
   "cell_type": "code",
   "execution_count": 12,
   "metadata": {
    "colab": {},
    "colab_type": "code",
    "id": "-5hU7d35n91s"
   },
   "outputs": [],
   "source": [
    "crime_df = crime_df[columns_to_consider]"
   ]
  },
  {
   "cell_type": "code",
   "execution_count": 13,
   "metadata": {
    "colab": {},
    "colab_type": "code",
    "id": "2u30SQ1Tok47"
   },
   "outputs": [],
   "source": [
    "crime_df = crime_df[crime_df[\"Incident Category\"].notna()]"
   ]
  },
  {
   "cell_type": "code",
   "execution_count": 14,
   "metadata": {
    "colab": {},
    "colab_type": "code",
    "id": "a7BVSSOoqKTL"
   },
   "outputs": [],
   "source": [
    "# Verify whhether nulls are removed through the above query\n",
    "# crime_df.isnull().sum()"
   ]
  },
  {
   "cell_type": "code",
   "execution_count": 15,
   "metadata": {
    "colab": {},
    "colab_type": "code",
    "id": "Sc5H5v3k7znS"
   },
   "outputs": [],
   "source": [
    "crime_df[\"Incident Date\"] = pd.to_datetime(crime_df[\"Incident Date\"], format=\"%Y/%m/%d\")"
   ]
  },
  {
   "cell_type": "code",
   "execution_count": 16,
   "metadata": {
    "colab": {},
    "colab_type": "code",
    "id": "Qd-1nnld8SIt"
   },
   "outputs": [],
   "source": [
    "crime_df[\"Incident Datetime\"] = pd.to_datetime(crime_df[\"Incident Datetime\"], format=\"%Y/%m/%d %I:%M:%S %p\")"
   ]
  },
  {
   "cell_type": "code",
   "execution_count": 17,
   "metadata": {
    "colab": {
     "base_uri": "https://localhost:8080/",
     "height": 330
    },
    "colab_type": "code",
    "id": "bFs2YIIoNMuQ",
    "outputId": "5954ec7c-36cf-4060-c883-e35226b0aa4b"
   },
   "outputs": [
    {
     "data": {
      "text/plain": [
       "Incident Datetime          datetime64[ns]\n",
       "Incident Date              datetime64[ns]\n",
       "Incident Time                      object\n",
       "Incident Year                       int64\n",
       "Incident Day of Week               object\n",
       "Report Datetime                    object\n",
       "Row ID                              int64\n",
       "Incident ID                         int64\n",
       "Incident Number                     int64\n",
       "Report Type Code                   object\n",
       "Report Type Description            object\n",
       "Incident Code                       int64\n",
       "Incident Category                  object\n",
       "Incident Subcategory               object\n",
       "Incident Description               object\n",
       "Resolution                         object\n",
       "Police District                    object\n",
       "dtype: object"
      ]
     },
     "execution_count": 17,
     "metadata": {},
     "output_type": "execute_result"
    }
   ],
   "source": [
    "crime_df.dtypes"
   ]
  },
  {
   "cell_type": "markdown",
   "metadata": {
    "colab_type": "text",
    "id": "2f3HjfsbO7jz"
   },
   "source": [
    "## Visualizations"
   ]
  },
  {
   "cell_type": "code",
   "execution_count": 18,
   "metadata": {
    "colab": {
     "base_uri": "https://localhost:8080/",
     "height": 170
    },
    "colab_type": "code",
    "id": "vc0tY-_jxM2n",
    "outputId": "0b8cbc56-debd-4d33-f8df-89f0bd3c8088"
   },
   "outputs": [
    {
     "data": {
      "text/html": [
       "<div>\n",
       "<style scoped>\n",
       "    .dataframe tbody tr th:only-of-type {\n",
       "        vertical-align: middle;\n",
       "    }\n",
       "\n",
       "    .dataframe tbody tr th {\n",
       "        vertical-align: top;\n",
       "    }\n",
       "\n",
       "    .dataframe thead th {\n",
       "        text-align: right;\n",
       "    }\n",
       "</style>\n",
       "<table border=\"1\" class=\"dataframe\">\n",
       "  <thead>\n",
       "    <tr style=\"text-align: right;\">\n",
       "      <th></th>\n",
       "      <th>Incident Datetime</th>\n",
       "      <th>Incident Date</th>\n",
       "      <th>Incident Time</th>\n",
       "      <th>Incident Year</th>\n",
       "      <th>Incident Day of Week</th>\n",
       "      <th>Report Datetime</th>\n",
       "      <th>Row ID</th>\n",
       "      <th>Incident ID</th>\n",
       "      <th>Incident Number</th>\n",
       "      <th>Report Type Code</th>\n",
       "      <th>Report Type Description</th>\n",
       "      <th>Incident Code</th>\n",
       "      <th>Incident Category</th>\n",
       "      <th>Incident Subcategory</th>\n",
       "      <th>Incident Description</th>\n",
       "      <th>Resolution</th>\n",
       "      <th>Police District</th>\n",
       "    </tr>\n",
       "  </thead>\n",
       "  <tbody>\n",
       "    <tr>\n",
       "      <th>0</th>\n",
       "      <td>2020-02-03 14:45:00</td>\n",
       "      <td>2020-02-03</td>\n",
       "      <td>14:45</td>\n",
       "      <td>2020</td>\n",
       "      <td>Monday</td>\n",
       "      <td>2020/02/03 05:50:00 PM</td>\n",
       "      <td>89881675000</td>\n",
       "      <td>898816</td>\n",
       "      <td>200085557</td>\n",
       "      <td>II</td>\n",
       "      <td>Initial</td>\n",
       "      <td>75000</td>\n",
       "      <td>Missing Person</td>\n",
       "      <td>Missing Person</td>\n",
       "      <td>Found Person</td>\n",
       "      <td>Open or Active</td>\n",
       "      <td>Taraval</td>\n",
       "    </tr>\n",
       "  </tbody>\n",
       "</table>\n",
       "</div>"
      ],
      "text/plain": [
       "    Incident Datetime Incident Date Incident Time  Incident Year  \\\n",
       "0 2020-02-03 14:45:00    2020-02-03         14:45           2020   \n",
       "\n",
       "  Incident Day of Week         Report Datetime       Row ID  Incident ID  \\\n",
       "0               Monday  2020/02/03 05:50:00 PM  89881675000       898816   \n",
       "\n",
       "   Incident Number Report Type Code Report Type Description  Incident Code  \\\n",
       "0        200085557               II                 Initial          75000   \n",
       "\n",
       "  Incident Category Incident Subcategory Incident Description      Resolution  \\\n",
       "0    Missing Person       Missing Person         Found Person  Open or Active   \n",
       "\n",
       "  Police District  \n",
       "0         Taraval  "
      ]
     },
     "execution_count": 18,
     "metadata": {},
     "output_type": "execute_result"
    }
   ],
   "source": [
    "crime_df.head(1)"
   ]
  },
  {
   "cell_type": "code",
   "execution_count": 19,
   "metadata": {
    "colab": {},
    "colab_type": "code",
    "id": "TzzF02vRywM4"
   },
   "outputs": [],
   "source": [
    "def convert_agg_df_into_flatten_df(df):\n",
    "  df = df.reset_index()\n",
    "  df.columns = [' '.join(col).strip() for col in df.columns.values]\n",
    "\n",
    "  return df\n",
    "\n",
    "# df = crime_df.groupby(['Incident Date'])['Incident Date'].agg([\"count\"]).reset_index()\n",
    "# df.head()"
   ]
  },
  {
   "cell_type": "markdown",
   "metadata": {
    "colab_type": "text",
    "id": "SuNL4aoF4oKA"
   },
   "source": [
    "#### Unique first Reports below are basically unique crimes that have been occured (we filtered according to the below criterias because we want to avoid counting same crime twice with other report types i.e. supplemental reports)"
   ]
  },
  {
   "cell_type": "code",
   "execution_count": 20,
   "metadata": {
    "colab": {
     "base_uri": "https://localhost:8080/",
     "height": 104
    },
    "colab_type": "code",
    "id": "1QxoPz8uQRYP",
    "outputId": "79d7915c-9d54-486d-8352-ca646d9d52db"
   },
   "outputs": [
    {
     "data": {
      "text/plain": [
       "Initial               213832\n",
       "Coplogic Initial       65508\n",
       "Initial Supplement     27882\n",
       "Vehicle Initial        16277\n",
       "Name: Report Type Description, dtype: int64"
      ]
     },
     "execution_count": 20,
     "metadata": {},
     "output_type": "execute_result"
    }
   ],
   "source": [
    "unique_first_reports = crime_df[(crime_df[\"Report Type Description\"] == 'Initial') |\n",
    "                         (crime_df[\"Report Type Description\"] == 'Initial Supplement') | \n",
    "                         (crime_df[\"Report Type Description\"] == 'Vehicle Initial') |\n",
    "                         (crime_df[\"Report Type Description\"] == 'Coplogic Initial')]\n",
    "\n",
    "unique_first_reports[\"Report Type Description\"].value_counts()"
   ]
  },
  {
   "cell_type": "code",
   "execution_count": 21,
   "metadata": {
    "colab": {
     "base_uri": "https://localhost:8080/",
     "height": 203
    },
    "colab_type": "code",
    "id": "S6s5KPmf1g7K",
    "outputId": "0237f691-39e8-4593-acb8-883a17534825"
   },
   "outputs": [
    {
     "data": {
      "text/html": [
       "<div>\n",
       "<style scoped>\n",
       "    .dataframe tbody tr th:only-of-type {\n",
       "        vertical-align: middle;\n",
       "    }\n",
       "\n",
       "    .dataframe tbody tr th {\n",
       "        vertical-align: top;\n",
       "    }\n",
       "\n",
       "    .dataframe thead th {\n",
       "        text-align: right;\n",
       "    }\n",
       "</style>\n",
       "<table border=\"1\" class=\"dataframe\">\n",
       "  <thead>\n",
       "    <tr style=\"text-align: right;\">\n",
       "      <th></th>\n",
       "      <th>date</th>\n",
       "      <th>count</th>\n",
       "    </tr>\n",
       "  </thead>\n",
       "  <tbody>\n",
       "    <tr>\n",
       "      <th>14</th>\n",
       "      <td>2018-01-01</td>\n",
       "      <td>478</td>\n",
       "    </tr>\n",
       "    <tr>\n",
       "      <th>453</th>\n",
       "      <td>2018-01-02</td>\n",
       "      <td>380</td>\n",
       "    </tr>\n",
       "    <tr>\n",
       "      <th>265</th>\n",
       "      <td>2018-01-03</td>\n",
       "      <td>405</td>\n",
       "    </tr>\n",
       "    <tr>\n",
       "      <th>107</th>\n",
       "      <td>2018-01-04</td>\n",
       "      <td>433</td>\n",
       "    </tr>\n",
       "    <tr>\n",
       "      <th>156</th>\n",
       "      <td>2018-01-05</td>\n",
       "      <td>424</td>\n",
       "    </tr>\n",
       "  </tbody>\n",
       "</table>\n",
       "</div>"
      ],
      "text/plain": [
       "          date  count\n",
       "14  2018-01-01    478\n",
       "453 2018-01-02    380\n",
       "265 2018-01-03    405\n",
       "107 2018-01-04    433\n",
       "156 2018-01-05    424"
      ]
     },
     "execution_count": 21,
     "metadata": {},
     "output_type": "execute_result"
    }
   ],
   "source": [
    "df = unique_first_reports['Incident Date'].value_counts().to_frame().reset_index()\n",
    "df = df.rename(columns={\"index\": \"date\", \"Incident Date\": \"count\"})\n",
    "df = df.sort_values(by=[\"date\"])\n",
    "df.head()"
   ]
  },
  {
   "cell_type": "markdown",
   "metadata": {},
   "source": [
    "# Required Inference 2"
   ]
  },
  {
   "cell_type": "code",
   "execution_count": 22,
   "metadata": {},
   "outputs": [],
   "source": [
    "from datetime import timedelta"
   ]
  },
  {
   "cell_type": "markdown",
   "metadata": {},
   "source": [
    "## Wald's Test\n",
    "### One sample test\n",
    "#### Deaths\n",
    "Hypotheses:  \n",
    "$H_0: \\hat\\mu = \\mu_0$  \n",
    "$H_1: \\hat\\mu \\neq \\mu_0$"
   ]
  },
  {
   "cell_type": "code",
   "execution_count": 23,
   "metadata": {},
   "outputs": [],
   "source": [
    "death_cases = cases_df[cases_df['Case Disposition'] == 'Death']\n",
    "death_counts = death_cases.groupby('Date')['Case Count'].sum().reset_index()"
   ]
  },
  {
   "cell_type": "code",
   "execution_count": 24,
   "metadata": {},
   "outputs": [],
   "source": [
    "latest_date = death_counts.sort_values(by='Date', ascending=False)['Date'].iloc[0]"
   ]
  },
  {
   "cell_type": "code",
   "execution_count": 25,
   "metadata": {},
   "outputs": [],
   "source": [
    "last_week_date = latest_date - timedelta(weeks=1)\n",
    "second_last_week_date = last_week_date - timedelta(weeks=1)"
   ]
  },
  {
   "cell_type": "code",
   "execution_count": 26,
   "metadata": {},
   "outputs": [
    {
     "data": {
      "text/html": [
       "<div>\n",
       "<style scoped>\n",
       "    .dataframe tbody tr th:only-of-type {\n",
       "        vertical-align: middle;\n",
       "    }\n",
       "\n",
       "    .dataframe tbody tr th {\n",
       "        vertical-align: top;\n",
       "    }\n",
       "\n",
       "    .dataframe thead th {\n",
       "        text-align: right;\n",
       "    }\n",
       "</style>\n",
       "<table border=\"1\" class=\"dataframe\">\n",
       "  <thead>\n",
       "    <tr style=\"text-align: right;\">\n",
       "      <th></th>\n",
       "      <th>Date</th>\n",
       "      <th>Case Count</th>\n",
       "    </tr>\n",
       "  </thead>\n",
       "  <tbody>\n",
       "    <tr>\n",
       "      <th>19</th>\n",
       "      <td>2020-04-25</td>\n",
       "      <td>1</td>\n",
       "    </tr>\n",
       "    <tr>\n",
       "      <th>20</th>\n",
       "      <td>2020-04-28</td>\n",
       "      <td>1</td>\n",
       "    </tr>\n",
       "    <tr>\n",
       "      <th>21</th>\n",
       "      <td>2020-04-29</td>\n",
       "      <td>2</td>\n",
       "    </tr>\n",
       "    <tr>\n",
       "      <th>22</th>\n",
       "      <td>2020-04-30</td>\n",
       "      <td>1</td>\n",
       "    </tr>\n",
       "  </tbody>\n",
       "</table>\n",
       "</div>"
      ],
      "text/plain": [
       "         Date  Case Count\n",
       "19 2020-04-25           1\n",
       "20 2020-04-28           1\n",
       "21 2020-04-29           2\n",
       "22 2020-04-30           1"
      ]
     },
     "execution_count": 26,
     "metadata": {},
     "output_type": "execute_result"
    }
   ],
   "source": [
    "last_week_death_counts = death_counts[death_counts['Date'] > last_week_date]\n",
    "last_week_death_counts"
   ]
  },
  {
   "cell_type": "code",
   "execution_count": 27,
   "metadata": {},
   "outputs": [
    {
     "data": {
      "text/html": [
       "<div>\n",
       "<style scoped>\n",
       "    .dataframe tbody tr th:only-of-type {\n",
       "        vertical-align: middle;\n",
       "    }\n",
       "\n",
       "    .dataframe tbody tr th {\n",
       "        vertical-align: top;\n",
       "    }\n",
       "\n",
       "    .dataframe thead th {\n",
       "        text-align: right;\n",
       "    }\n",
       "</style>\n",
       "<table border=\"1\" class=\"dataframe\">\n",
       "  <thead>\n",
       "    <tr style=\"text-align: right;\">\n",
       "      <th></th>\n",
       "      <th>Date</th>\n",
       "      <th>Case Count</th>\n",
       "    </tr>\n",
       "  </thead>\n",
       "  <tbody>\n",
       "    <tr>\n",
       "      <th>17</th>\n",
       "      <td>2020-04-19</td>\n",
       "      <td>1</td>\n",
       "    </tr>\n",
       "    <tr>\n",
       "      <th>18</th>\n",
       "      <td>2020-04-22</td>\n",
       "      <td>1</td>\n",
       "    </tr>\n",
       "  </tbody>\n",
       "</table>\n",
       "</div>"
      ],
      "text/plain": [
       "         Date  Case Count\n",
       "17 2020-04-19           1\n",
       "18 2020-04-22           1"
      ]
     },
     "execution_count": 27,
     "metadata": {},
     "output_type": "execute_result"
    }
   ],
   "source": [
    "second_last_week_death_counts = death_counts.loc[(death_counts['Date'] > second_last_week_date) & (death_counts['Date'] <= last_week_date)]\n",
    "second_last_week_death_counts"
   ]
  },
  {
   "cell_type": "code",
   "execution_count": 28,
   "metadata": {},
   "outputs": [],
   "source": [
    "n = 7\n",
    "second_last_week_mean_deaths = second_last_week_death_counts['Case Count'].sum() / n\n",
    "lambda_hat = n / last_week_death_counts['Case Count'].sum()\n",
    "\n",
    "mu_hat = 1 / lambda_hat\n",
    "mu_0 = second_last_week_mean_deaths\n",
    "se_hat = mu_hat / np.sqrt(n)"
   ]
  },
  {
   "cell_type": "code",
   "execution_count": 29,
   "metadata": {},
   "outputs": [],
   "source": [
    "w = np.abs((mu_hat - mu_0) / se_hat)"
   ]
  },
  {
   "cell_type": "code",
   "execution_count": 30,
   "metadata": {},
   "outputs": [
    {
     "data": {
      "text/plain": [
       "1.5874507866387546"
      ]
     },
     "execution_count": 30,
     "metadata": {},
     "output_type": "execute_result"
    }
   ],
   "source": [
    "w"
   ]
  },
  {
   "cell_type": "markdown",
   "metadata": {},
   "source": [
    "Since the Wald's statistic $|w| \\leq Z_{\\alpha/2}$ we fail to reject the null hypothesis $H_0$ and conclude that $\\hat\\mu = \\mu_0$"
   ]
  },
  {
   "cell_type": "code",
   "execution_count": null,
   "metadata": {},
   "outputs": [],
   "source": []
  },
  {
   "cell_type": "markdown",
   "metadata": {},
   "source": [
    "## Z-test\n",
    "#### Deaths\n",
    "Hypotheses:  \n",
    "$H_0: \\overline{X} = \\mu_0$  \n",
    "$H_1: \\overline{X} \\neq \\mu_0$\n",
    "\n",
    "##### Regardless of the original distribution of X, we know by Central Limit Theorem, that $\\overline{X} \\sim N(\\mu, \\dfrac{\\sigma^2}{n})$\n",
    "##### where $\\mu$ is true mean and $\\sigma^2$ is true standard deviation\n",
    "\n",
    "##### Hence, Z-test is applicable"
   ]
  },
  {
   "cell_type": "code",
   "execution_count": 69,
   "metadata": {},
   "outputs": [],
   "source": [
    "death_cases = cases_df[cases_df['Case Disposition'] == 'Death']\n",
    "death_counts = death_cases.groupby('Date')['Case Count'].sum().reset_index()"
   ]
  },
  {
   "cell_type": "code",
   "execution_count": 70,
   "metadata": {},
   "outputs": [],
   "source": [
    "latest_date = death_counts.sort_values(by='Date', ascending=False)['Date'].iloc[0]\n",
    "last_week_date = latest_date - timedelta(weeks=1)\n",
    "second_last_week_date = last_week_date - timedelta(weeks=1)\n",
    "\n",
    "last_week_death_counts = death_counts[death_counts['Date'] > last_week_date]\n",
    "second_last_week_death_counts = death_counts.loc[(death_counts['Date'] > second_last_week_date) & (death_counts['Date'] <= last_week_date)]\n",
    "\n",
    "\n",
    "X = death_counts[\"Case Count\"].astype(float).to_numpy()\n",
    "e_of_x = np.mean(X)\n",
    "e_of_x_square = np.mean(np.multiply(X, X))\n",
    "\n",
    "true_standard_deviation_of_X = math.sqrt(e_of_x_square - (e_of_x**2))"
   ]
  },
  {
   "cell_type": "code",
   "execution_count": 72,
   "metadata": {},
   "outputs": [
    {
     "data": {
      "text/plain": [
       "1.25"
      ]
     },
     "execution_count": 72,
     "metadata": {},
     "output_type": "execute_result"
    }
   ],
   "source": [
    "X_bar = last_week_death_counts['Case Count'].mean()\n",
    "X_bar\n",
    "# z_statistic = ()"
   ]
  },
  {
   "cell_type": "code",
   "execution_count": 75,
   "metadata": {},
   "outputs": [
    {
     "data": {
      "text/plain": [
       "Larceny Theft                                   109388\n",
       "Other Miscellaneous                              25695\n",
       "Non-Criminal                                     21192\n",
       "Malicious Mischief                               20748\n",
       "Assault                                          20298\n",
       "Burglary                                         15412\n",
       "Motor Vehicle Theft                              12658\n",
       "Warrant                                          12338\n",
       "Lost Property                                    12292\n",
       "Fraud                                            10106\n",
       "Recovered Vehicle                                10102\n",
       "Drug Offense                                      8637\n",
       "Robbery                                           8151\n",
       "Missing Person                                    7834\n",
       "Offences Against The Family And Children          6646\n",
       "Suspicious Occ                                    6418\n",
       "Disorderly Conduct                                6049\n",
       "Traffic Violation Arrest                          4384\n",
       "Miscellaneous Investigation                       3058\n",
       "Other Offenses                                    2679\n",
       "Other                                             2329\n",
       "Weapons Carrying Etc                              1816\n",
       "Weapons Offense                                   1814\n",
       "Stolen Property                                   1762\n",
       "Forgery And Counterfeiting                        1471\n",
       "Case Closure                                      1462\n",
       "Courtesy Report                                   1017\n",
       "Sex Offense                                        993\n",
       "Civil Sidewalks                                    860\n",
       "Prostitution                                       806\n",
       "Arson                                              805\n",
       "Traffic Collision                                  647\n",
       "Embezzlement                                       479\n",
       "Vandalism                                          471\n",
       "Family Offense                                     444\n",
       "Fire Report                                        349\n",
       "Vehicle Impounded                                  257\n",
       "Vehicle Misplaced                                  158\n",
       "Suicide                                            156\n",
       "Drug Violation                                     118\n",
       "Human Trafficking (A), Commercial Sex Acts         102\n",
       "Rape                                                93\n",
       "Liquor Laws                                         73\n",
       "Suspicious                                          64\n",
       "Motor Vehicle Theft?                                49\n",
       "Homicide                                            40\n",
       "Gambling                                            20\n",
       "Weapons Offence                                     17\n",
       "Human Trafficking, Commercial Sex Acts              15\n",
       "Juvenile Offenses                                    1\n",
       "Human Trafficking (B), Involuntary Servitude         1\n",
       "Name: Incident Category, dtype: int64"
      ]
     },
     "execution_count": 75,
     "metadata": {},
     "output_type": "execute_result"
    }
   ],
   "source": [
    "crime_df[\"Incident Category\"].value_counts()"
   ]
  },
  {
   "cell_type": "code",
   "execution_count": 65,
   "metadata": {},
   "outputs": [
    {
     "data": {
      "text/plain": [
       "0.6330530338504798"
      ]
     },
     "execution_count": 65,
     "metadata": {},
     "output_type": "execute_result"
    }
   ],
   "source": []
  },
  {
   "cell_type": "code",
   "execution_count": 78,
   "metadata": {},
   "outputs": [
    {
     "data": {
      "text/plain": [
       "Larceny - From Vehicle                        62830\n",
       "Other                                         46566\n",
       "Larceny Theft - Other                         26591\n",
       "Vandalism                                     20325\n",
       "Simple Assault                                13132\n",
       "                                              ...  \n",
       "Robbery - Residential                            15\n",
       "Bribery                                           5\n",
       "Arrest                                            3\n",
       "Human Trafficking, Involuntary Servitude          1\n",
       "Human Trafficking (A), Commercial Sex Acts        1\n",
       "Name: Incident Subcategory, Length: 75, dtype: int64"
      ]
     },
     "execution_count": 78,
     "metadata": {},
     "output_type": "execute_result"
    }
   ],
   "source": [
    "crime_df[\"Incident Subcategory\"].value_counts()"
   ]
  },
  {
   "cell_type": "code",
   "execution_count": 80,
   "metadata": {},
   "outputs": [
    {
     "data": {
      "text/plain": [
       "Theft, From Locked Vehicle, >$950                             46697\n",
       "Lost Property                                                 12292\n",
       "Theft, Other Property, $50-$200                               10769\n",
       "Malicious Mischief, Vandalism to Property                     10291\n",
       "Battery                                                       10116\n",
       "                                                              ...  \n",
       "Abortion, Unlawful                                                1\n",
       "Burglary, Safe,  Warehouse                                        1\n",
       "Fighting Dog or Animal, Biting or Causing  Injury or Death        1\n",
       "Vehicle Alarm Code Grabbing Device, Possess or Use                1\n",
       "Threat to State Official or Judge                                 1\n",
       "Name: Incident Description, Length: 785, dtype: int64"
      ]
     },
     "execution_count": 80,
     "metadata": {},
     "output_type": "execute_result"
    }
   ],
   "source": [
    "crime_df[\"Incident Description\"].value_counts()"
   ]
  },
  {
   "cell_type": "code",
   "execution_count": 81,
   "metadata": {},
   "outputs": [
    {
     "data": {
      "text/plain": [
       "Incident Datetime          0\n",
       "Incident Date              0\n",
       "Incident Time              0\n",
       "Incident Year              0\n",
       "Incident Day of Week       0\n",
       "Report Datetime            0\n",
       "Row ID                     0\n",
       "Incident ID                0\n",
       "Incident Number            0\n",
       "Report Type Code           0\n",
       "Report Type Description    0\n",
       "Incident Code              0\n",
       "Incident Category          0\n",
       "Incident Subcategory       0\n",
       "Incident Description       0\n",
       "Resolution                 0\n",
       "Police District            0\n",
       "dtype: int64"
      ]
     },
     "execution_count": 81,
     "metadata": {},
     "output_type": "execute_result"
    }
   ],
   "source": [
    "crime_df.isna().sum()"
   ]
  },
  {
   "cell_type": "code",
   "execution_count": null,
   "metadata": {},
   "outputs": [],
   "source": []
  }
 ],
 "metadata": {
  "colab": {
   "name": "Copy of scratchPad.ipynb",
   "provenance": [],
   "toc_visible": true
  },
  "kernelspec": {
   "display_name": "Python 3",
   "language": "python",
   "name": "python3"
  },
  "language_info": {
   "codemirror_mode": {
    "name": "ipython",
    "version": 3
   },
   "file_extension": ".py",
   "mimetype": "text/x-python",
   "name": "python",
   "nbconvert_exporter": "python",
   "pygments_lexer": "ipython3",
   "version": "3.7.6"
  }
 },
 "nbformat": 4,
 "nbformat_minor": 4
}
