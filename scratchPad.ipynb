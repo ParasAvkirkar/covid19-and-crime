{
 "cells": [
  {
   "cell_type": "code",
   "execution_count": 1,
   "metadata": {
    "colab": {},
    "colab_type": "code",
    "id": "NNYJLh5VkbAr"
   },
   "outputs": [],
   "source": [
    "# Default mount-path: /content/drive/Shared drives/Probstat"
   ]
  },
  {
   "cell_type": "code",
   "execution_count": 2,
   "metadata": {
    "colab": {
     "base_uri": "https://localhost:8080/",
     "height": 35
    },
    "colab_type": "code",
    "id": "2MCP0iRgl4Wt",
    "outputId": "d742388c-26a9-451b-d198-6d81aa4cc729"
   },
   "outputs": [],
   "source": [
    "# from google.colab import drive\n",
    "# drive.mount('/content/gdrive')"
   ]
  },
  {
   "cell_type": "code",
   "execution_count": 3,
   "metadata": {
    "colab": {},
    "colab_type": "code",
    "id": "koWvV4HVwF1H"
   },
   "outputs": [],
   "source": [
    "import os\n",
    "import datetime\n",
    "import pandas as pd\n",
    "import numpy as np\n",
    "import matplotlib.pyplot as plt\n",
    "import matplotlib.dates as mdates\n",
    "import seaborn as sns"
   ]
  },
  {
   "cell_type": "code",
   "execution_count": 4,
   "metadata": {
    "colab": {},
    "colab_type": "code",
    "id": "qn3uBDLIvOjD"
   },
   "outputs": [],
   "source": [
    "# root_path = './gdrive/Shared drives/Probstat'\n",
    "root_path = './'"
   ]
  },
  {
   "cell_type": "markdown",
   "metadata": {
    "colab_type": "text",
    "id": "qexdFVFUmJet"
   },
   "source": [
    "## SF Covid-19 Dataset"
   ]
  },
  {
   "cell_type": "code",
   "execution_count": 5,
   "metadata": {
    "colab": {},
    "colab_type": "code",
    "id": "n5J3BdvLvyiJ"
   },
   "outputs": [],
   "source": [
    "cases_df = pd.read_csv(root_path + '/data/COVID-19_Cases_Summarized_by_Date__Transmission_and_Case_Disposition.csv')"
   ]
  },
  {
   "cell_type": "code",
   "execution_count": 6,
   "metadata": {
    "colab": {
     "base_uri": "https://localhost:8080/",
     "height": 105
    },
    "colab_type": "code",
    "id": "BqyBl1Apl2bJ",
    "outputId": "e0dcf50a-3146-43b7-a4fb-00a054b1d354"
   },
   "outputs": [
    {
     "data": {
      "text/plain": [
       "Date                     0\n",
       "Transmission Category    0\n",
       "Case Disposition         0\n",
       "Case Count               0\n",
       "dtype: int64"
      ]
     },
     "execution_count": 6,
     "metadata": {},
     "output_type": "execute_result"
    }
   ],
   "source": [
    "cases_df.isna().sum()"
   ]
  },
  {
   "cell_type": "markdown",
   "metadata": {
    "colab_type": "text",
    "id": "aiv3mC01vkYN"
   },
   "source": [
    "#### We can verify in above query, 0 MISSING values were found "
   ]
  },
  {
   "cell_type": "markdown",
   "metadata": {
    "colab_type": "text",
    "id": "0sva1JaSKPNz"
   },
   "source": [
    "## Pre-processing steps for SF Covid-19 Dataset\n",
    "\n",
    "1.   Converting Date column into date-time dtype\n",
    "\n"
   ]
  },
  {
   "cell_type": "code",
   "execution_count": 8,
   "metadata": {
    "colab": {},
    "colab_type": "code",
    "id": "dVO1i4VDKZBA"
   },
   "outputs": [],
   "source": [
    "cases_df[\"Date\"] = pd.to_datetime(cases_df[\"Date\"], format=\"%Y/%m/%d\")"
   ]
  },
  {
   "cell_type": "code",
   "execution_count": 9,
   "metadata": {
    "colab": {},
    "colab_type": "code",
    "id": "qE6FOqg4LLOh"
   },
   "outputs": [],
   "source": [
    "# Verify by uncommenting and toggling with ascending=True/False\n",
    "# cases_df.sort_values(by=\"Date\", ascending=False)"
   ]
  },
  {
   "cell_type": "markdown",
   "metadata": {
    "colab_type": "text",
    "id": "fNo7caH2mUXd"
   },
   "source": [
    "## Crime Dataset"
   ]
  },
  {
   "cell_type": "code",
   "execution_count": 10,
   "metadata": {
    "colab": {},
    "colab_type": "code",
    "id": "ZKfKf_-GyUKI"
   },
   "outputs": [],
   "source": [
    "crime_df = pd.read_csv(root_path + '/data/Police_Department_Incident_Reports__2018_to_Present.csv')"
   ]
  },
  {
   "cell_type": "code",
   "execution_count": 11,
   "metadata": {
    "colab": {
     "base_uri": "https://localhost:8080/",
     "height": 35
    },
    "colab_type": "code",
    "id": "5BFHLIW6lRy4",
    "outputId": "d431ed5b-4000-4425-b462-2dc92d338c6d"
   },
   "outputs": [
    {
     "data": {
      "text/plain": [
       "(342936, 36)"
      ]
     },
     "execution_count": 11,
     "metadata": {},
     "output_type": "execute_result"
    }
   ],
   "source": [
    "crime_df.shape"
   ]
  },
  {
   "cell_type": "code",
   "execution_count": 12,
   "metadata": {
    "colab": {
     "base_uri": "https://localhost:8080/",
     "height": 668
    },
    "colab_type": "code",
    "id": "qwYA6ogx7yXh",
    "outputId": "3e04dc25-c40e-48a9-d4a1-5829c11e3b45"
   },
   "outputs": [
    {
     "data": {
      "text/plain": [
       "Incident Datetime                                            0\n",
       "Incident Date                                                0\n",
       "Incident Time                                                0\n",
       "Incident Year                                                0\n",
       "Incident Day of Week                                         0\n",
       "Report Datetime                                              0\n",
       "Row ID                                                       0\n",
       "Incident ID                                                  0\n",
       "Incident Number                                              0\n",
       "CAD Number                                               79225\n",
       "Report Type Code                                             0\n",
       "Report Type Description                                      0\n",
       "Filed Online                                            269212\n",
       "Incident Code                                                0\n",
       "Incident Category                                          162\n",
       "Incident Subcategory                                       162\n",
       "Incident Description                                         0\n",
       "Resolution                                                   0\n",
       "Intersection                                             18181\n",
       "CNN                                                      18181\n",
       "Police District                                              0\n",
       "Analysis Neighborhood                                    18247\n",
       "Supervisor District                                      18181\n",
       "Latitude                                                 18181\n",
       "Longitude                                                18181\n",
       "point                                                    18181\n",
       "SF Find Neighborhoods                                    25144\n",
       "Current Police Districts                                 18667\n",
       "Current Supervisor Districts                             18247\n",
       "Analysis Neighborhoods                                   18313\n",
       "HSOC Zones as of 2018-06-05                             266727\n",
       "OWED Public Spaces                                      325834\n",
       "Central Market/Tenderloin Boundary Polygon - Updated    297518\n",
       "Parks Alliance CPSI (27+TL sites)                       338752\n",
       "ESNCAG - Boundary File                                  339171\n",
       "Areas of Vulnerability, 2016                             18313\n",
       "dtype: int64"
      ]
     },
     "execution_count": 12,
     "metadata": {},
     "output_type": "execute_result"
    }
   ],
   "source": [
    "crime_df.isna().sum()"
   ]
  },
  {
   "cell_type": "markdown",
   "metadata": {
    "colab_type": "text",
    "id": "aVB8VyigMdZq"
   },
   "source": [
    "## Pre-processing steps for Crime Dataset:\n"
   ]
  },
  {
   "cell_type": "markdown",
   "metadata": {
    "colab_type": "text",
    "id": "FL42Yl-FmigC"
   },
   "source": [
    "### Considering only non-null columns and Incident columns"
   ]
  },
  {
   "cell_type": "code",
   "execution_count": 13,
   "metadata": {
    "colab": {},
    "colab_type": "code",
    "id": "fGy7IIcUmnUf"
   },
   "outputs": [],
   "source": [
    "columns_to_consider = [\"Incident Datetime\", \"Incident Date\", \"Incident Time\", \"Incident Year\", \"Incident Day of Week\", \"Report Datetime\", \"Row ID\", \"Incident ID\", \"Incident Number\", \"Report Type Code\", \"Report Type Description\", \"Incident Code\", \"Incident Category\", \"Incident Subcategory\", \"Incident Description\", \"Resolution\", \"Police District\"]"
   ]
  },
  {
   "cell_type": "code",
   "execution_count": 14,
   "metadata": {
    "colab": {},
    "colab_type": "code",
    "id": "-5hU7d35n91s"
   },
   "outputs": [],
   "source": [
    "crime_df = crime_df[columns_to_consider]"
   ]
  },
  {
   "cell_type": "code",
   "execution_count": 15,
   "metadata": {
    "colab": {},
    "colab_type": "code",
    "id": "2u30SQ1Tok47"
   },
   "outputs": [],
   "source": [
    "crime_df = crime_df[crime_df[\"Incident Category\"].notna()]"
   ]
  },
  {
   "cell_type": "code",
   "execution_count": 16,
   "metadata": {
    "colab": {},
    "colab_type": "code",
    "id": "a7BVSSOoqKTL"
   },
   "outputs": [],
   "source": [
    "# Verify whhether nulls are removed through the above query\n",
    "# crime_df.isnull().sum()"
   ]
  },
  {
   "cell_type": "code",
   "execution_count": 17,
   "metadata": {
    "colab": {},
    "colab_type": "code",
    "id": "Sc5H5v3k7znS"
   },
   "outputs": [],
   "source": [
    "crime_df[\"Incident Date\"] = pd.to_datetime(crime_df[\"Incident Date\"], format=\"%Y/%m/%d\")"
   ]
  },
  {
   "cell_type": "code",
   "execution_count": 18,
   "metadata": {
    "colab": {},
    "colab_type": "code",
    "id": "Qd-1nnld8SIt"
   },
   "outputs": [],
   "source": [
    "crime_df[\"Incident Datetime\"] = pd.to_datetime(crime_df[\"Incident Datetime\"], format=\"%Y/%m/%d %I:%M:%S %p\")"
   ]
  },
  {
   "cell_type": "code",
   "execution_count": 19,
   "metadata": {
    "colab": {
     "base_uri": "https://localhost:8080/",
     "height": 334
    },
    "colab_type": "code",
    "id": "bFs2YIIoNMuQ",
    "outputId": "32064b1e-f31c-4506-a0bb-97b6e31c62f8"
   },
   "outputs": [
    {
     "data": {
      "text/plain": [
       "Incident Datetime          datetime64[ns]\n",
       "Incident Date              datetime64[ns]\n",
       "Incident Time                      object\n",
       "Incident Year                       int64\n",
       "Incident Day of Week               object\n",
       "Report Datetime                    object\n",
       "Row ID                              int64\n",
       "Incident ID                         int64\n",
       "Incident Number                     int64\n",
       "Report Type Code                   object\n",
       "Report Type Description            object\n",
       "Incident Code                       int64\n",
       "Incident Category                  object\n",
       "Incident Subcategory               object\n",
       "Incident Description               object\n",
       "Resolution                         object\n",
       "Police District                    object\n",
       "dtype: object"
      ]
     },
     "execution_count": 19,
     "metadata": {},
     "output_type": "execute_result"
    }
   ],
   "source": [
    "crime_df.dtypes"
   ]
  },
  {
   "cell_type": "markdown",
   "metadata": {
    "colab_type": "text",
    "id": "2f3HjfsbO7jz"
   },
   "source": [
    "## Visualizations"
   ]
  },
  {
   "cell_type": "code",
   "execution_count": 20,
   "metadata": {
    "colab": {
     "base_uri": "https://localhost:8080/",
     "height": 168
    },
    "colab_type": "code",
    "id": "vc0tY-_jxM2n",
    "outputId": "0ba2e66e-9367-4ce0-ae65-83e2055569c8"
   },
   "outputs": [
    {
     "data": {
      "text/html": [
       "<div>\n",
       "<style scoped>\n",
       "    .dataframe tbody tr th:only-of-type {\n",
       "        vertical-align: middle;\n",
       "    }\n",
       "\n",
       "    .dataframe tbody tr th {\n",
       "        vertical-align: top;\n",
       "    }\n",
       "\n",
       "    .dataframe thead th {\n",
       "        text-align: right;\n",
       "    }\n",
       "</style>\n",
       "<table border=\"1\" class=\"dataframe\">\n",
       "  <thead>\n",
       "    <tr style=\"text-align: right;\">\n",
       "      <th></th>\n",
       "      <th>Incident Datetime</th>\n",
       "      <th>Incident Date</th>\n",
       "      <th>Incident Time</th>\n",
       "      <th>Incident Year</th>\n",
       "      <th>Incident Day of Week</th>\n",
       "      <th>Report Datetime</th>\n",
       "      <th>Row ID</th>\n",
       "      <th>Incident ID</th>\n",
       "      <th>Incident Number</th>\n",
       "      <th>Report Type Code</th>\n",
       "      <th>Report Type Description</th>\n",
       "      <th>Incident Code</th>\n",
       "      <th>Incident Category</th>\n",
       "      <th>Incident Subcategory</th>\n",
       "      <th>Incident Description</th>\n",
       "      <th>Resolution</th>\n",
       "      <th>Police District</th>\n",
       "    </tr>\n",
       "  </thead>\n",
       "  <tbody>\n",
       "    <tr>\n",
       "      <th>0</th>\n",
       "      <td>2020-02-03 14:45:00</td>\n",
       "      <td>2020-02-03</td>\n",
       "      <td>14:45</td>\n",
       "      <td>2020</td>\n",
       "      <td>Monday</td>\n",
       "      <td>2020/02/03 05:50:00 PM</td>\n",
       "      <td>89881675000</td>\n",
       "      <td>898816</td>\n",
       "      <td>200085557</td>\n",
       "      <td>II</td>\n",
       "      <td>Initial</td>\n",
       "      <td>75000</td>\n",
       "      <td>Missing Person</td>\n",
       "      <td>Missing Person</td>\n",
       "      <td>Found Person</td>\n",
       "      <td>Open or Active</td>\n",
       "      <td>Taraval</td>\n",
       "    </tr>\n",
       "  </tbody>\n",
       "</table>\n",
       "</div>"
      ],
      "text/plain": [
       "    Incident Datetime Incident Date Incident Time  Incident Year  \\\n",
       "0 2020-02-03 14:45:00    2020-02-03         14:45           2020   \n",
       "\n",
       "  Incident Day of Week         Report Datetime       Row ID  Incident ID  \\\n",
       "0               Monday  2020/02/03 05:50:00 PM  89881675000       898816   \n",
       "\n",
       "   Incident Number Report Type Code Report Type Description  Incident Code  \\\n",
       "0        200085557               II                 Initial          75000   \n",
       "\n",
       "  Incident Category Incident Subcategory Incident Description      Resolution  \\\n",
       "0    Missing Person       Missing Person         Found Person  Open or Active   \n",
       "\n",
       "  Police District  \n",
       "0         Taraval  "
      ]
     },
     "execution_count": 20,
     "metadata": {},
     "output_type": "execute_result"
    }
   ],
   "source": [
    "crime_df.head(1)"
   ]
  },
  {
   "cell_type": "code",
   "execution_count": 21,
   "metadata": {
    "colab": {},
    "colab_type": "code",
    "id": "TzzF02vRywM4"
   },
   "outputs": [],
   "source": [
    "def convert_agg_df_into_flatten_df(df):\n",
    "  df = df.reset_index()\n",
    "  df.columns = [' '.join(col).strip() for col in df.columns.values]\n",
    "\n",
    "  return df\n",
    "\n",
    "# df = crime_df.groupby(['Incident Date'])['Incident Date'].agg([\"count\"]).reset_index()\n",
    "# df.head()"
   ]
  },
  {
   "cell_type": "markdown",
   "metadata": {
    "colab_type": "text",
    "id": "swJARrc8lrrk"
   },
   "source": [
    "## Un-Smoothened and Smoothened crime cases by day\n",
    "\n",
    "\n",
    "1.   For smoothening purposes used Simple Moving Average spanning over a week\n"
   ]
  },
  {
   "cell_type": "code",
   "execution_count": 41,
   "metadata": {
    "colab": {
     "base_uri": "https://localhost:8080/",
     "height": 203
    },
    "colab_type": "code",
    "id": "2339kNBCr8fV",
    "outputId": "fb34afdd-f1a8-478f-ed29-38db9fafc820"
   },
   "outputs": [
    {
     "data": {
      "text/html": [
       "<div>\n",
       "<style scoped>\n",
       "    .dataframe tbody tr th:only-of-type {\n",
       "        vertical-align: middle;\n",
       "    }\n",
       "\n",
       "    .dataframe tbody tr th {\n",
       "        vertical-align: top;\n",
       "    }\n",
       "\n",
       "    .dataframe thead th {\n",
       "        text-align: right;\n",
       "    }\n",
       "</style>\n",
       "<table border=\"1\" class=\"dataframe\">\n",
       "  <thead>\n",
       "    <tr style=\"text-align: right;\">\n",
       "      <th></th>\n",
       "      <th>date</th>\n",
       "      <th>count</th>\n",
       "    </tr>\n",
       "  </thead>\n",
       "  <tbody>\n",
       "    <tr>\n",
       "      <th>6</th>\n",
       "      <td>2018-01-01</td>\n",
       "      <td>427</td>\n",
       "    </tr>\n",
       "    <tr>\n",
       "      <th>490</th>\n",
       "      <td>2018-01-02</td>\n",
       "      <td>329</td>\n",
       "    </tr>\n",
       "    <tr>\n",
       "      <th>172</th>\n",
       "      <td>2018-01-03</td>\n",
       "      <td>367</td>\n",
       "    </tr>\n",
       "    <tr>\n",
       "      <th>72</th>\n",
       "      <td>2018-01-04</td>\n",
       "      <td>386</td>\n",
       "    </tr>\n",
       "    <tr>\n",
       "      <th>148</th>\n",
       "      <td>2018-01-05</td>\n",
       "      <td>372</td>\n",
       "    </tr>\n",
       "  </tbody>\n",
       "</table>\n",
       "</div>"
      ],
      "text/plain": [
       "          date  count\n",
       "6   2018-01-01    427\n",
       "490 2018-01-02    329\n",
       "172 2018-01-03    367\n",
       "72  2018-01-04    386\n",
       "148 2018-01-05    372"
      ]
     },
     "execution_count": 41,
     "metadata": {},
     "output_type": "execute_result"
    }
   ],
   "source": [
    "unique_crimes = crime_df.groupby([\"Incident ID\"]).agg({\"Incident Date\": \"first\"}).reset_index()\n",
    "unique_crimes.head()\n",
    "\n",
    "date_freq = unique_crimes[\"Incident Date\"].value_counts().to_frame().reset_index()\n",
    "date_freq = date_freq.rename(columns={\"index\": \"date\", \"Incident Date\": \"count\"})\n",
    "date_freq = date_freq.sort_values(by=\"date\")\n",
    "date_freq.head()"
   ]
  },
  {
   "cell_type": "code",
   "execution_count": 42,
   "metadata": {
    "colab": {
     "base_uri": "https://localhost:8080/",
     "height": 573
    },
    "colab_type": "code",
    "id": "4CkYuaD6Ggxb",
    "outputId": "e61bd566-d185-4ecf-9871-75eb04f0856b"
   },
   "outputs": [
    {
     "data": {
      "image/png": "[encoded data removed]",
      "text/plain": [
       "<Figure size 1440x720 with 2 Axes>"
      ]
     },
     "metadata": {
      "needs_background": "light"
     },
     "output_type": "display_data"
    }
   ],
   "source": [
    "figure, axes = plt.subplots(figsize=(20, 10), nrows=2, ncols=1)\n",
    "sns.lineplot(x='date', y='count', data=date_freq, ax=axes[0])\n",
    "\n",
    "\n",
    "date_freq['smoothen_counts'] = date_freq['count'].rolling(window=7).mean()\n",
    "\n",
    "sns_axes = sns.lineplot(x='date', y='smoothen_counts', data=date_freq, ax=axes[1])\n",
    "\n",
    "# Adding x-ticks for each month\n",
    "base_date = datetime.datetime.strptime('2018-01-01', '%Y-%m-%d')\n",
    "dates = [base_date + datetime.timedelta(days=i * 30) for i in range(30)]\n",
    "xfmt = mdates.DateFormatter('%Y-%m')\n",
    "axes[1].xaxis.set_major_formatter(xfmt)\n",
    "axes[1].set_xticks(dates)\n",
    "\n",
    "x_dates = [date.strftime(\"%Y-%m\") for date in dates]\n",
    "remnant = axes[1].set_xticklabels(labels=x_dates, rotation=90, ha='right')"
   ]
  },
  {
   "cell_type": "markdown",
   "metadata": {
    "colab_type": "text",
    "id": "D6XzrIFBRbfp"
   },
   "source": [
    "### As we can see there's huge drop after first week of March 2020.\n",
    "#### Because the first case of corona in San-Francisco was observed in 5th March, after which social-distancing measures were implemented"
   ]
  },
  {
   "cell_type": "markdown",
   "metadata": {
    "colab_type": "text",
    "id": "s54vC99Q0s-r"
   },
   "source": [
    "## Sanity Checks"
   ]
  },
  {
   "cell_type": "code",
   "execution_count": 43,
   "metadata": {
    "colab": {
     "base_uri": "https://localhost:8080/",
     "height": 52
    },
    "colab_type": "code",
    "id": "b3fHx7pkz9e9",
    "outputId": "c0beb1aa-dcde-48c3-d57d-0430301f4504"
   },
   "outputs": [
    {
     "data": {
      "text/plain": [
       "IS    8216\n",
       "Name: Report Type Code, dtype: int64"
      ]
     },
     "execution_count": 43,
     "metadata": {},
     "output_type": "execute_result"
    }
   ],
   "source": [
    "crime_df[crime_df[\"Report Type Description\"] == \"Coplogic Supplement\"][\"Report Type Code\"].value_counts()"
   ]
  },
  {
   "cell_type": "code",
   "execution_count": 44,
   "metadata": {
    "colab": {
     "base_uri": "https://localhost:8080/",
     "height": 52
    },
    "colab_type": "code",
    "id": "Pk-7phmL0vMY",
    "outputId": "4ea29093-6caf-4153-f217-58bb3d93eb1b"
   },
   "outputs": [
    {
     "data": {
      "text/plain": [
       "IS    27882\n",
       "Name: Report Type Code, dtype: int64"
      ]
     },
     "execution_count": 44,
     "metadata": {},
     "output_type": "execute_result"
    }
   ],
   "source": [
    "crime_df[crime_df[\"Report Type Description\"] == \"Initial Supplement\"][\"Report Type Code\"].value_counts()"
   ]
  },
  {
   "cell_type": "code",
   "execution_count": 45,
   "metadata": {
    "colab": {
     "base_uri": "https://localhost:8080/",
     "height": 52
    },
    "colab_type": "code",
    "id": "N5G20HZf0yf4",
    "outputId": "87f850d8-acb5-41c6-efb9-b0fc116a6cc6"
   },
   "outputs": [
    {
     "data": {
      "text/plain": [
       "VS    11059\n",
       "Name: Report Type Code, dtype: int64"
      ]
     },
     "execution_count": 45,
     "metadata": {},
     "output_type": "execute_result"
    }
   ],
   "source": [
    "crime_df[crime_df[\"Report Type Description\"] == \"Vehicle Supplement\"][\"Report Type Code\"].value_counts()"
   ]
  },
  {
   "cell_type": "code",
   "execution_count": 46,
   "metadata": {
    "colab": {
     "base_uri": "https://localhost:8080/",
     "height": 52
    },
    "colab_type": "code",
    "id": "mhqYbg6I01J5",
    "outputId": "7a8a87e4-5869-45cc-8876-a697a78b6c5a"
   },
   "outputs": [
    {
     "data": {
      "text/plain": [
       "VI    16277\n",
       "Name: Report Type Code, dtype: int64"
      ]
     },
     "execution_count": 46,
     "metadata": {},
     "output_type": "execute_result"
    }
   ],
   "source": [
    "crime_df[crime_df[\"Report Type Description\"] == \"Vehicle Initial\"][\"Report Type Code\"].value_counts()"
   ]
  },
  {
   "cell_type": "code",
   "execution_count": 47,
   "metadata": {
    "colab": {
     "base_uri": "https://localhost:8080/",
     "height": 52
    },
    "colab_type": "code",
    "id": "Y_VPZ2UN1AJ9",
    "outputId": "7e6ece1f-68c6-441e-da16-994a176121c6"
   },
   "outputs": [
    {
     "data": {
      "text/plain": [
       "II    65508\n",
       "Name: Report Type Code, dtype: int64"
      ]
     },
     "execution_count": 47,
     "metadata": {},
     "output_type": "execute_result"
    }
   ],
   "source": [
    "crime_df[crime_df[\"Report Type Description\"] == \"Coplogic Initial\"][\"Report Type Code\"].value_counts()"
   ]
  },
  {
   "cell_type": "code",
   "execution_count": 48,
   "metadata": {
    "colab": {
     "base_uri": "https://localhost:8080/",
     "height": 52
    },
    "colab_type": "code",
    "id": "BTrBItil1Fo1",
    "outputId": "3911507d-0f6d-4e03-8679-6cab282046b3"
   },
   "outputs": [
    {
     "data": {
      "text/plain": [
       "II    213832\n",
       "Name: Report Type Code, dtype: int64"
      ]
     },
     "execution_count": 48,
     "metadata": {},
     "output_type": "execute_result"
    }
   ],
   "source": [
    "crime_df[crime_df[\"Report Type Description\"] == \"Initial\"][\"Report Type Code\"].value_counts()"
   ]
  },
  {
   "cell_type": "code",
   "execution_count": 49,
   "metadata": {
    "colab": {
     "base_uri": "https://localhost:8080/",
     "height": 220
    },
    "colab_type": "code",
    "id": "cQOMCUYT1hV8",
    "outputId": "54700496-d582-4abe-9ec6-655f1471f969"
   },
   "outputs": [
    {
     "data": {
      "text/html": [
       "<div>\n",
       "<style scoped>\n",
       "    .dataframe tbody tr th:only-of-type {\n",
       "        vertical-align: middle;\n",
       "    }\n",
       "\n",
       "    .dataframe tbody tr th {\n",
       "        vertical-align: top;\n",
       "    }\n",
       "\n",
       "    .dataframe thead th {\n",
       "        text-align: right;\n",
       "    }\n",
       "</style>\n",
       "<table border=\"1\" class=\"dataframe\">\n",
       "  <thead>\n",
       "    <tr style=\"text-align: right;\">\n",
       "      <th></th>\n",
       "      <th>Incident Datetime</th>\n",
       "      <th>Incident Date</th>\n",
       "      <th>Incident Time</th>\n",
       "      <th>Incident Year</th>\n",
       "      <th>Incident Day of Week</th>\n",
       "      <th>Report Datetime</th>\n",
       "      <th>Row ID</th>\n",
       "      <th>Incident ID</th>\n",
       "      <th>Incident Number</th>\n",
       "      <th>Report Type Code</th>\n",
       "      <th>Report Type Description</th>\n",
       "      <th>Incident Code</th>\n",
       "      <th>Incident Category</th>\n",
       "      <th>Incident Subcategory</th>\n",
       "      <th>Incident Description</th>\n",
       "      <th>Resolution</th>\n",
       "      <th>Police District</th>\n",
       "    </tr>\n",
       "  </thead>\n",
       "  <tbody>\n",
       "    <tr>\n",
       "      <th>6</th>\n",
       "      <td>2020-01-16 00:01:00</td>\n",
       "      <td>2020-01-16</td>\n",
       "      <td>00:01</td>\n",
       "      <td>2020</td>\n",
       "      <td>Thursday</td>\n",
       "      <td>2020/01/21 08:05:00 AM</td>\n",
       "      <td>89745215041</td>\n",
       "      <td>897452</td>\n",
       "      <td>200050964</td>\n",
       "      <td>IS</td>\n",
       "      <td>Initial Supplement</td>\n",
       "      <td>15041</td>\n",
       "      <td>Offences Against The Family And Children</td>\n",
       "      <td>Family Offenses</td>\n",
       "      <td>Elder Adult or Dependent Abuse (not Embezzleme...</td>\n",
       "      <td>Unfounded</td>\n",
       "      <td>Mission</td>\n",
       "    </tr>\n",
       "  </tbody>\n",
       "</table>\n",
       "</div>"
      ],
      "text/plain": [
       "    Incident Datetime Incident Date Incident Time  Incident Year  \\\n",
       "6 2020-01-16 00:01:00    2020-01-16         00:01           2020   \n",
       "\n",
       "  Incident Day of Week         Report Datetime       Row ID  Incident ID  \\\n",
       "6             Thursday  2020/01/21 08:05:00 AM  89745215041       897452   \n",
       "\n",
       "   Incident Number Report Type Code Report Type Description  Incident Code  \\\n",
       "6        200050964               IS      Initial Supplement          15041   \n",
       "\n",
       "                          Incident Category Incident Subcategory  \\\n",
       "6  Offences Against The Family And Children      Family Offenses   \n",
       "\n",
       "                                Incident Description Resolution  \\\n",
       "6  Elder Adult or Dependent Abuse (not Embezzleme...  Unfounded   \n",
       "\n",
       "  Police District  \n",
       "6         Mission  "
      ]
     },
     "execution_count": 49,
     "metadata": {},
     "output_type": "execute_result"
    }
   ],
   "source": [
    "crime_df[crime_df[\"Report Type Description\"] == \"Initial Supplement\"].head(1)"
   ]
  },
  {
   "cell_type": "code",
   "execution_count": 50,
   "metadata": {
    "colab": {
     "base_uri": "https://localhost:8080/",
     "height": 220
    },
    "colab_type": "code",
    "id": "y4bLure00GvT",
    "outputId": "38f61929-f71e-434f-93c4-07b99533cf31"
   },
   "outputs": [
    {
     "data": {
      "text/html": [
       "<div>\n",
       "<style scoped>\n",
       "    .dataframe tbody tr th:only-of-type {\n",
       "        vertical-align: middle;\n",
       "    }\n",
       "\n",
       "    .dataframe tbody tr th {\n",
       "        vertical-align: top;\n",
       "    }\n",
       "\n",
       "    .dataframe thead th {\n",
       "        text-align: right;\n",
       "    }\n",
       "</style>\n",
       "<table border=\"1\" class=\"dataframe\">\n",
       "  <thead>\n",
       "    <tr style=\"text-align: right;\">\n",
       "      <th></th>\n",
       "      <th>Incident Datetime</th>\n",
       "      <th>Incident Date</th>\n",
       "      <th>Incident Time</th>\n",
       "      <th>Incident Year</th>\n",
       "      <th>Incident Day of Week</th>\n",
       "      <th>Report Datetime</th>\n",
       "      <th>Row ID</th>\n",
       "      <th>Incident ID</th>\n",
       "      <th>Incident Number</th>\n",
       "      <th>Report Type Code</th>\n",
       "      <th>Report Type Description</th>\n",
       "      <th>Incident Code</th>\n",
       "      <th>Incident Category</th>\n",
       "      <th>Incident Subcategory</th>\n",
       "      <th>Incident Description</th>\n",
       "      <th>Resolution</th>\n",
       "      <th>Police District</th>\n",
       "    </tr>\n",
       "  </thead>\n",
       "  <tbody>\n",
       "    <tr>\n",
       "      <th>6</th>\n",
       "      <td>2020-01-16 00:01:00</td>\n",
       "      <td>2020-01-16</td>\n",
       "      <td>00:01</td>\n",
       "      <td>2020</td>\n",
       "      <td>Thursday</td>\n",
       "      <td>2020/01/21 08:05:00 AM</td>\n",
       "      <td>89745215041</td>\n",
       "      <td>897452</td>\n",
       "      <td>200050964</td>\n",
       "      <td>IS</td>\n",
       "      <td>Initial Supplement</td>\n",
       "      <td>15041</td>\n",
       "      <td>Offences Against The Family And Children</td>\n",
       "      <td>Family Offenses</td>\n",
       "      <td>Elder Adult or Dependent Abuse (not Embezzleme...</td>\n",
       "      <td>Unfounded</td>\n",
       "      <td>Mission</td>\n",
       "    </tr>\n",
       "  </tbody>\n",
       "</table>\n",
       "</div>"
      ],
      "text/plain": [
       "    Incident Datetime Incident Date Incident Time  Incident Year  \\\n",
       "6 2020-01-16 00:01:00    2020-01-16         00:01           2020   \n",
       "\n",
       "  Incident Day of Week         Report Datetime       Row ID  Incident ID  \\\n",
       "6             Thursday  2020/01/21 08:05:00 AM  89745215041       897452   \n",
       "\n",
       "   Incident Number Report Type Code Report Type Description  Incident Code  \\\n",
       "6        200050964               IS      Initial Supplement          15041   \n",
       "\n",
       "                          Incident Category Incident Subcategory  \\\n",
       "6  Offences Against The Family And Children      Family Offenses   \n",
       "\n",
       "                                Incident Description Resolution  \\\n",
       "6  Elder Adult or Dependent Abuse (not Embezzleme...  Unfounded   \n",
       "\n",
       "  Police District  \n",
       "6         Mission  "
      ]
     },
     "execution_count": 50,
     "metadata": {},
     "output_type": "execute_result"
    }
   ],
   "source": [
    "crime_df[crime_df[\"Incident ID\"] == 897452]\n",
    "# Special case: 898713\n",
    "# Special case: 898686"
   ]
  },
  {
   "cell_type": "code",
   "execution_count": 51,
   "metadata": {
    "colab": {
     "base_uri": "https://localhost:8080/",
     "height": 168
    },
    "colab_type": "code",
    "id": "IwAjr3yq1tlO",
    "outputId": "1c7350a3-a1c8-41e8-8a9a-7ea143bc2d3c"
   },
   "outputs": [
    {
     "data": {
      "text/html": [
       "<div>\n",
       "<style scoped>\n",
       "    .dataframe tbody tr th:only-of-type {\n",
       "        vertical-align: middle;\n",
       "    }\n",
       "\n",
       "    .dataframe tbody tr th {\n",
       "        vertical-align: top;\n",
       "    }\n",
       "\n",
       "    .dataframe thead th {\n",
       "        text-align: right;\n",
       "    }\n",
       "</style>\n",
       "<table border=\"1\" class=\"dataframe\">\n",
       "  <thead>\n",
       "    <tr style=\"text-align: right;\">\n",
       "      <th></th>\n",
       "      <th>Incident Datetime</th>\n",
       "      <th>Incident Date</th>\n",
       "      <th>Incident Time</th>\n",
       "      <th>Incident Year</th>\n",
       "      <th>Incident Day of Week</th>\n",
       "      <th>Report Datetime</th>\n",
       "      <th>Row ID</th>\n",
       "      <th>Incident ID</th>\n",
       "      <th>Incident Number</th>\n",
       "      <th>Report Type Code</th>\n",
       "      <th>Report Type Description</th>\n",
       "      <th>Incident Code</th>\n",
       "      <th>Incident Category</th>\n",
       "      <th>Incident Subcategory</th>\n",
       "      <th>Incident Description</th>\n",
       "      <th>Resolution</th>\n",
       "      <th>Police District</th>\n",
       "    </tr>\n",
       "  </thead>\n",
       "  <tbody>\n",
       "    <tr>\n",
       "      <th>64</th>\n",
       "      <td>2020-02-03 03:22:00</td>\n",
       "      <td>2020-02-03</td>\n",
       "      <td>03:22</td>\n",
       "      <td>2020</td>\n",
       "      <td>Monday</td>\n",
       "      <td>2020/02/03 03:22:00 AM</td>\n",
       "      <td>89859907041</td>\n",
       "      <td>898599</td>\n",
       "      <td>200082359</td>\n",
       "      <td>VS</td>\n",
       "      <td>Vehicle Supplement</td>\n",
       "      <td>7041</td>\n",
       "      <td>Recovered Vehicle</td>\n",
       "      <td>Recovered Vehicle</td>\n",
       "      <td>Vehicle, Recovered, Auto</td>\n",
       "      <td>Open or Active</td>\n",
       "      <td>Bayview</td>\n",
       "    </tr>\n",
       "  </tbody>\n",
       "</table>\n",
       "</div>"
      ],
      "text/plain": [
       "     Incident Datetime Incident Date Incident Time  Incident Year  \\\n",
       "64 2020-02-03 03:22:00    2020-02-03         03:22           2020   \n",
       "\n",
       "   Incident Day of Week         Report Datetime       Row ID  Incident ID  \\\n",
       "64               Monday  2020/02/03 03:22:00 AM  89859907041       898599   \n",
       "\n",
       "    Incident Number Report Type Code Report Type Description  Incident Code  \\\n",
       "64        200082359               VS      Vehicle Supplement           7041   \n",
       "\n",
       "    Incident Category Incident Subcategory      Incident Description  \\\n",
       "64  Recovered Vehicle    Recovered Vehicle  Vehicle, Recovered, Auto   \n",
       "\n",
       "        Resolution Police District  \n",
       "64  Open or Active         Bayview  "
      ]
     },
     "execution_count": 51,
     "metadata": {},
     "output_type": "execute_result"
    }
   ],
   "source": [
    "crime_df[crime_df[\"Report Type Description\"] == \"Vehicle Supplement\"].head(1)"
   ]
  },
  {
   "cell_type": "code",
   "execution_count": 52,
   "metadata": {
    "colab": {
     "base_uri": "https://localhost:8080/",
     "height": 168
    },
    "colab_type": "code",
    "id": "nEjmNQCY1tNO",
    "outputId": "8bb4566b-f571-4131-9497-cea0152256da"
   },
   "outputs": [
    {
     "data": {
      "text/html": [
       "<div>\n",
       "<style scoped>\n",
       "    .dataframe tbody tr th:only-of-type {\n",
       "        vertical-align: middle;\n",
       "    }\n",
       "\n",
       "    .dataframe tbody tr th {\n",
       "        vertical-align: top;\n",
       "    }\n",
       "\n",
       "    .dataframe thead th {\n",
       "        text-align: right;\n",
       "    }\n",
       "</style>\n",
       "<table border=\"1\" class=\"dataframe\">\n",
       "  <thead>\n",
       "    <tr style=\"text-align: right;\">\n",
       "      <th></th>\n",
       "      <th>Incident Datetime</th>\n",
       "      <th>Incident Date</th>\n",
       "      <th>Incident Time</th>\n",
       "      <th>Incident Year</th>\n",
       "      <th>Incident Day of Week</th>\n",
       "      <th>Report Datetime</th>\n",
       "      <th>Row ID</th>\n",
       "      <th>Incident ID</th>\n",
       "      <th>Incident Number</th>\n",
       "      <th>Report Type Code</th>\n",
       "      <th>Report Type Description</th>\n",
       "      <th>Incident Code</th>\n",
       "      <th>Incident Category</th>\n",
       "      <th>Incident Subcategory</th>\n",
       "      <th>Incident Description</th>\n",
       "      <th>Resolution</th>\n",
       "      <th>Police District</th>\n",
       "    </tr>\n",
       "  </thead>\n",
       "  <tbody>\n",
       "    <tr>\n",
       "      <th>64</th>\n",
       "      <td>2020-02-03 03:22:00</td>\n",
       "      <td>2020-02-03</td>\n",
       "      <td>03:22</td>\n",
       "      <td>2020</td>\n",
       "      <td>Monday</td>\n",
       "      <td>2020/02/03 03:22:00 AM</td>\n",
       "      <td>89859907041</td>\n",
       "      <td>898599</td>\n",
       "      <td>200082359</td>\n",
       "      <td>VS</td>\n",
       "      <td>Vehicle Supplement</td>\n",
       "      <td>7041</td>\n",
       "      <td>Recovered Vehicle</td>\n",
       "      <td>Recovered Vehicle</td>\n",
       "      <td>Vehicle, Recovered, Auto</td>\n",
       "      <td>Open or Active</td>\n",
       "      <td>Bayview</td>\n",
       "    </tr>\n",
       "  </tbody>\n",
       "</table>\n",
       "</div>"
      ],
      "text/plain": [
       "     Incident Datetime Incident Date Incident Time  Incident Year  \\\n",
       "64 2020-02-03 03:22:00    2020-02-03         03:22           2020   \n",
       "\n",
       "   Incident Day of Week         Report Datetime       Row ID  Incident ID  \\\n",
       "64               Monday  2020/02/03 03:22:00 AM  89859907041       898599   \n",
       "\n",
       "    Incident Number Report Type Code Report Type Description  Incident Code  \\\n",
       "64        200082359               VS      Vehicle Supplement           7041   \n",
       "\n",
       "    Incident Category Incident Subcategory      Incident Description  \\\n",
       "64  Recovered Vehicle    Recovered Vehicle  Vehicle, Recovered, Auto   \n",
       "\n",
       "        Resolution Police District  \n",
       "64  Open or Active         Bayview  "
      ]
     },
     "execution_count": 52,
     "metadata": {},
     "output_type": "execute_result"
    }
   ],
   "source": [
    "crime_df[crime_df[\"Incident ID\"] == 898599]"
   ]
  },
  {
   "cell_type": "code",
   "execution_count": 53,
   "metadata": {
    "colab": {
     "base_uri": "https://localhost:8080/",
     "height": 185
    },
    "colab_type": "code",
    "id": "nyt5Bw_Z1sz-",
    "outputId": "4c77e113-8d87-472f-a8b6-f6caf521c75e"
   },
   "outputs": [
    {
     "data": {
      "text/html": [
       "<div>\n",
       "<style scoped>\n",
       "    .dataframe tbody tr th:only-of-type {\n",
       "        vertical-align: middle;\n",
       "    }\n",
       "\n",
       "    .dataframe tbody tr th {\n",
       "        vertical-align: top;\n",
       "    }\n",
       "\n",
       "    .dataframe thead th {\n",
       "        text-align: right;\n",
       "    }\n",
       "</style>\n",
       "<table border=\"1\" class=\"dataframe\">\n",
       "  <thead>\n",
       "    <tr style=\"text-align: right;\">\n",
       "      <th></th>\n",
       "      <th>Incident Datetime</th>\n",
       "      <th>Incident Date</th>\n",
       "      <th>Incident Time</th>\n",
       "      <th>Incident Year</th>\n",
       "      <th>Incident Day of Week</th>\n",
       "      <th>Report Datetime</th>\n",
       "      <th>Row ID</th>\n",
       "      <th>Incident ID</th>\n",
       "      <th>Incident Number</th>\n",
       "      <th>Report Type Code</th>\n",
       "      <th>Report Type Description</th>\n",
       "      <th>Incident Code</th>\n",
       "      <th>Incident Category</th>\n",
       "      <th>Incident Subcategory</th>\n",
       "      <th>Incident Description</th>\n",
       "      <th>Resolution</th>\n",
       "      <th>Police District</th>\n",
       "    </tr>\n",
       "  </thead>\n",
       "  <tbody>\n",
       "    <tr>\n",
       "      <th>119</th>\n",
       "      <td>2020-01-29 18:30:00</td>\n",
       "      <td>2020-01-29</td>\n",
       "      <td>18:30</td>\n",
       "      <td>2020</td>\n",
       "      <td>Wednesday</td>\n",
       "      <td>2020/02/01 07:21:00 PM</td>\n",
       "      <td>89864306244</td>\n",
       "      <td>898643</td>\n",
       "      <td>206022329</td>\n",
       "      <td>IS</td>\n",
       "      <td>Coplogic Supplement</td>\n",
       "      <td>6244</td>\n",
       "      <td>Larceny Theft</td>\n",
       "      <td>Larceny - From Vehicle</td>\n",
       "      <td>Theft, From Locked Vehicle, &gt;$950</td>\n",
       "      <td>Open or Active</td>\n",
       "      <td>Richmond</td>\n",
       "    </tr>\n",
       "  </tbody>\n",
       "</table>\n",
       "</div>"
      ],
      "text/plain": [
       "      Incident Datetime Incident Date Incident Time  Incident Year  \\\n",
       "119 2020-01-29 18:30:00    2020-01-29         18:30           2020   \n",
       "\n",
       "    Incident Day of Week         Report Datetime       Row ID  Incident ID  \\\n",
       "119            Wednesday  2020/02/01 07:21:00 PM  89864306244       898643   \n",
       "\n",
       "     Incident Number Report Type Code Report Type Description  Incident Code  \\\n",
       "119        206022329               IS     Coplogic Supplement           6244   \n",
       "\n",
       "    Incident Category    Incident Subcategory  \\\n",
       "119     Larceny Theft  Larceny - From Vehicle   \n",
       "\n",
       "                  Incident Description      Resolution Police District  \n",
       "119  Theft, From Locked Vehicle, >$950  Open or Active        Richmond  "
      ]
     },
     "execution_count": 53,
     "metadata": {},
     "output_type": "execute_result"
    }
   ],
   "source": [
    "crime_df[crime_df[\"Report Type Description\"] == \"Coplogic Supplement\"].head(1)"
   ]
  },
  {
   "cell_type": "code",
   "execution_count": 54,
   "metadata": {
    "colab": {
     "base_uri": "https://localhost:8080/",
     "height": 185
    },
    "colab_type": "code",
    "id": "Hy7W0KxA1sKS",
    "outputId": "e2459e82-828b-4692-8166-cdc0127611d2"
   },
   "outputs": [
    {
     "data": {
      "text/html": [
       "<div>\n",
       "<style scoped>\n",
       "    .dataframe tbody tr th:only-of-type {\n",
       "        vertical-align: middle;\n",
       "    }\n",
       "\n",
       "    .dataframe tbody tr th {\n",
       "        vertical-align: top;\n",
       "    }\n",
       "\n",
       "    .dataframe thead th {\n",
       "        text-align: right;\n",
       "    }\n",
       "</style>\n",
       "<table border=\"1\" class=\"dataframe\">\n",
       "  <thead>\n",
       "    <tr style=\"text-align: right;\">\n",
       "      <th></th>\n",
       "      <th>Incident Datetime</th>\n",
       "      <th>Incident Date</th>\n",
       "      <th>Incident Time</th>\n",
       "      <th>Incident Year</th>\n",
       "      <th>Incident Day of Week</th>\n",
       "      <th>Report Datetime</th>\n",
       "      <th>Row ID</th>\n",
       "      <th>Incident ID</th>\n",
       "      <th>Incident Number</th>\n",
       "      <th>Report Type Code</th>\n",
       "      <th>Report Type Description</th>\n",
       "      <th>Incident Code</th>\n",
       "      <th>Incident Category</th>\n",
       "      <th>Incident Subcategory</th>\n",
       "      <th>Incident Description</th>\n",
       "      <th>Resolution</th>\n",
       "      <th>Police District</th>\n",
       "    </tr>\n",
       "  </thead>\n",
       "  <tbody>\n",
       "    <tr>\n",
       "      <th>119</th>\n",
       "      <td>2020-01-29 18:30:00</td>\n",
       "      <td>2020-01-29</td>\n",
       "      <td>18:30</td>\n",
       "      <td>2020</td>\n",
       "      <td>Wednesday</td>\n",
       "      <td>2020/02/01 07:21:00 PM</td>\n",
       "      <td>89864306244</td>\n",
       "      <td>898643</td>\n",
       "      <td>206022329</td>\n",
       "      <td>IS</td>\n",
       "      <td>Coplogic Supplement</td>\n",
       "      <td>6244</td>\n",
       "      <td>Larceny Theft</td>\n",
       "      <td>Larceny - From Vehicle</td>\n",
       "      <td>Theft, From Locked Vehicle, &gt;$950</td>\n",
       "      <td>Open or Active</td>\n",
       "      <td>Richmond</td>\n",
       "    </tr>\n",
       "  </tbody>\n",
       "</table>\n",
       "</div>"
      ],
      "text/plain": [
       "      Incident Datetime Incident Date Incident Time  Incident Year  \\\n",
       "119 2020-01-29 18:30:00    2020-01-29         18:30           2020   \n",
       "\n",
       "    Incident Day of Week         Report Datetime       Row ID  Incident ID  \\\n",
       "119            Wednesday  2020/02/01 07:21:00 PM  89864306244       898643   \n",
       "\n",
       "     Incident Number Report Type Code Report Type Description  Incident Code  \\\n",
       "119        206022329               IS     Coplogic Supplement           6244   \n",
       "\n",
       "    Incident Category    Incident Subcategory  \\\n",
       "119     Larceny Theft  Larceny - From Vehicle   \n",
       "\n",
       "                  Incident Description      Resolution Police District  \n",
       "119  Theft, From Locked Vehicle, >$950  Open or Active        Richmond  "
      ]
     },
     "execution_count": 54,
     "metadata": {},
     "output_type": "execute_result"
    }
   ],
   "source": [
    "crime_df[crime_df[\"Incident ID\"] == 898643]"
   ]
  },
  {
   "cell_type": "code",
   "execution_count": 58,
   "metadata": {
    "colab": {},
    "colab_type": "code",
    "id": "I0pBJRPnAGSr"
   },
   "outputs": [],
   "source": [
    "vehicle_unique_reports = crime_df[(crime_df[\"Report Type Description\"] == \"Vehicle Initial\") |\n",
    "                                  (crime_df[\"Report Type Description\"] == \"Vehicle Supplement\")]\n",
    "vehicle_unique_reports = vehicle_unique_reports.groupby([\"Incident ID\"]).agg({\"Incident Date\": \"first\"}).reset_index()\n",
    "\n",
    "online_unique_reports = crime_df[(crime_df[\"Report Type Description\"] == \"Coplogic Initial\") |\n",
    "                                             (crime_df[\"Report Type Description\"] == \"Coplogic Supplement\")]\n",
    "online_unique_reports = online_unique_reports.groupby([\"Incident ID\"]).agg({\"Incident Date\": \"first\"}).reset_index()"
   ]
  },
  {
   "cell_type": "code",
   "execution_count": 59,
   "metadata": {
    "colab": {},
    "colab_type": "code",
    "id": "4l34um-xAMiu"
   },
   "outputs": [],
   "source": [
    "vehicle_stats = vehicle_unique_reports[\"Incident Date\"].value_counts().to_frame().reset_index()\n",
    "vehicle_stats = vehicle_stats.rename(columns={\"index\": \"date\", \"Incident Date\": \"count\"})\n",
    "vehicle_stats = vehicle_stats.sort_values(by=\"date\")\n",
    "vehicle_stats['smoothen_counts'] = vehicle_stats['count'].rolling(window=7).mean()\n",
    "\n",
    "online_stats = online_unique_reports[\"Incident Date\"].value_counts().to_frame().reset_index()\n",
    "online_stats = online_stats.rename(columns={\"index\": \"date\", \"Incident Date\": \"count\"})\n",
    "online_stats = online_stats.sort_values(by=\"date\")\n",
    "online_stats['smoothen_counts'] = online_stats['count'].rolling(window=7).mean()\n",
    "\n",
    "vehicle_stats[\"type\"] = \"vehicle\"\n",
    "online_stats[\"type\"] = \"online\"\n",
    "\n",
    "merged_df = pd.concat([vehicle_stats, online_stats])"
   ]
  },
  {
   "cell_type": "code",
   "execution_count": 60,
   "metadata": {
    "colab": {},
    "colab_type": "code",
    "id": "ecZdZ7AWDGGw"
   },
   "outputs": [],
   "source": [
    "merged_df = merged_df[merged_df[\"date\"] > datetime.datetime(2019, 12, 31)]"
   ]
  },
  {
   "cell_type": "code",
   "execution_count": 61,
   "metadata": {
    "colab": {
     "base_uri": "https://localhost:8080/",
     "height": 546
    },
    "colab_type": "code",
    "id": "C7Ps2oCsJTWl",
    "outputId": "35328348-235d-4a23-cdca-90b8a7f315b8"
   },
   "outputs": [
    {
     "data": {
      "image/png": "[encoded data removed]",
      "text/plain": [
       "<Figure size 1440x720 with 2 Axes>"
      ]
     },
     "metadata": {
      "needs_background": "light"
     },
     "output_type": "display_data"
    }
   ],
   "source": [
    "figure, axes = plt.subplots(figsize=(20, 10), nrows=2, ncols=1)\n",
    "sns.lineplot(x='date', y='count', hue=\"type\", data=merged_df, ax=axes[0])\n",
    "\n",
    "sns_axes = sns.lineplot(x='date', y='smoothen_counts', hue=\"type\", data=merged_df, ax=axes[1])"
   ]
  },
  {
   "cell_type": "code",
   "execution_count": null,
   "metadata": {},
   "outputs": [],
   "source": []
  }
 ],
 "metadata": {
  "colab": {
   "collapsed_sections": [],
   "name": "scratchPad.ipynb",
   "provenance": [],
   "toc_visible": true
  },
  "kernelspec": {
   "display_name": "Python 3",
   "language": "python",
   "name": "python3"
  },
  "language_info": {
   "codemirror_mode": {
    "name": "ipython",
    "version": 3
   },
   "file_extension": ".py",
   "mimetype": "text/x-python",
   "name": "python",
   "nbconvert_exporter": "python",
   "pygments_lexer": "ipython3",
   "version": "3.7.6"
  }
 },
 "nbformat": 4,
 "nbformat_minor": 4
}
